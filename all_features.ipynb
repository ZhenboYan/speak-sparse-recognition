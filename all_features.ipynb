{
 "cells": [
  {
   "cell_type": "code",
   "execution_count": 25,
   "metadata": {},
   "outputs": [],
   "source": [
    "import numpy as np\n",
    "import librosa\n",
    "import os\n",
    "import glob\n",
    "import warnings\n",
    "import random\n",
    "import matplotlib.pyplot as plt\n",
    "from tqdm import tqdm\n",
    "from sklearn.model_selection import train_test_split\n",
    "from sklearn.preprocessing import StandardScaler\n",
    "from sklearn.decomposition import SparseCoder\n",
    "from sklearn.metrics import accuracy_score, classification_report\n",
    "from sklearn.exceptions import ConvergenceWarning\n",
    "from sklearn.decomposition import SparseCoder\n"
   ]
  },
  {
   "cell_type": "code",
   "execution_count": 29,
   "metadata": {},
   "outputs": [],
   "source": [
    "# MFCC\n",
    "def extract_features(audio_file, mfcc=13):\n",
    "    signal, sample_rate = librosa.load(audio_file, sr=None)\n",
    "    mfcc = librosa.feature.mfcc(y=signal, sr=sample_rate, n_mfcc=mfcc)\n",
    "    return mfcc.mean(axis=1)"
   ]
  },
  {
   "cell_type": "code",
   "execution_count": 47,
   "metadata": {},
   "outputs": [],
   "source": [
    "# PLP\n",
    "# !pip3.8 install sidekit\n",
    "from sidekit.frontend.features import plp\n",
    "\n",
    "def extract_features(audio_file, num_ceps=13):\n",
    "    signal, sample_rate = librosa.load(audio_file, sr=None)\n",
    "    plp_coeffs, _ = plp(signal, fs=sample_rate, rasta=True, num_ceps=num_ceps)\n",
    "    return np.mean(plp_coeffs, axis=1)"
   ]
  },
  {
   "cell_type": "code",
   "execution_count": null,
   "metadata": {},
   "outputs": [],
   "source": [
    "def extract_features(audio_file, wavelet='db4', level=4):\n",
    "    signal, sample_rate = librosa.load(audio_file, sr=None)\n",
    "    coeffs = pywt.wavedec(signal, wavelet, level=level)\n",
    "    features = np.concatenate([np.mean(c) for c in coeffs] + [np.std(c) for c in coeffs])\n",
    "    return features"
   ]
  },
  {
   "cell_type": "code",
   "execution_count": 51,
   "metadata": {
    "scrolled": true
   },
   "outputs": [
    {
     "name": "stderr",
     "output_type": "stream",
     "text": [
      "98it [00:00, 144.33it/s]\n",
      "96it [00:00, 144.67it/s]\n",
      "98it [00:00, 144.63it/s]\n"
     ]
    },
    {
     "name": "stdout",
     "output_type": "stream",
     "text": [
      "50 Accuracy: 0.9212726757369615\n"
     ]
    },
    {
     "name": "stderr",
     "output_type": "stream",
     "text": [
      "98it [00:00, 145.61it/s]\n",
      "98it [00:00, 145.14it/s]\n",
      "98it [00:00, 147.06it/s]\n"
     ]
    },
    {
     "name": "stdout",
     "output_type": "stream",
     "text": [
      "51 Accuracy: 0.914965986394558\n"
     ]
    },
    {
     "name": "stderr",
     "output_type": "stream",
     "text": [
      "100it [00:00, 142.50it/s]\n",
      "98it [00:00, 132.52it/s]\n",
      "96it [00:00, 138.53it/s]\n"
     ]
    },
    {
     "name": "stdout",
     "output_type": "stream",
     "text": [
      "52 Accuracy: 0.9152862811791384\n"
     ]
    },
    {
     "name": "stderr",
     "output_type": "stream",
     "text": [
      "96it [00:00, 139.44it/s]\n",
      "96it [00:00, 138.85it/s]\n",
      "98it [00:00, 125.27it/s]\n"
     ]
    },
    {
     "name": "stdout",
     "output_type": "stream",
     "text": [
      "53 Accuracy: 0.9277210884353742\n"
     ]
    },
    {
     "name": "stderr",
     "output_type": "stream",
     "text": [
      "100it [00:00, 133.12it/s]\n",
      "100it [00:00, 134.60it/s]\n",
      "96it [00:00, 136.60it/s]\n"
     ]
    },
    {
     "name": "stdout",
     "output_type": "stream",
     "text": [
      "54 Accuracy: 0.8984722222222222\n"
     ]
    },
    {
     "name": "stderr",
     "output_type": "stream",
     "text": [
      "98it [00:00, 131.03it/s]\n",
      "98it [00:00, 134.79it/s]\n",
      "98it [00:00, 121.80it/s]\n"
     ]
    },
    {
     "name": "stdout",
     "output_type": "stream",
     "text": [
      "55 Accuracy: 0.9217687074829932\n"
     ]
    },
    {
     "name": "stderr",
     "output_type": "stream",
     "text": [
      "100it [00:00, 127.49it/s]\n",
      "100it [00:00, 130.63it/s]\n",
      "100it [00:00, 124.79it/s]\n"
     ]
    },
    {
     "name": "stdout",
     "output_type": "stream",
     "text": [
      "56 Accuracy: 0.9366666666666666\n"
     ]
    },
    {
     "name": "stderr",
     "output_type": "stream",
     "text": [
      "100it [00:00, 129.79it/s]\n",
      "98it [00:00, 130.54it/s]\n",
      "100it [00:00, 134.29it/s]\n"
     ]
    },
    {
     "name": "stdout",
     "output_type": "stream",
     "text": [
      "57 Accuracy: 0.9193197278911565\n"
     ]
    },
    {
     "name": "stderr",
     "output_type": "stream",
     "text": [
      "98it [00:00, 129.30it/s]\n",
      "98it [00:00, 134.78it/s]\n",
      "100it [00:00, 129.43it/s]\n"
     ]
    },
    {
     "name": "stdout",
     "output_type": "stream",
     "text": [
      "58 Accuracy: 0.9290476190476191\n"
     ]
    },
    {
     "name": "stderr",
     "output_type": "stream",
     "text": [
      "96it [00:00, 132.51it/s]\n",
      "98it [00:00, 132.09it/s]\n",
      "100it [00:00, 129.76it/s]\n"
     ]
    },
    {
     "name": "stdout",
     "output_type": "stream",
     "text": [
      "59 Accuracy: 0.9080640589569161\n"
     ]
    },
    {
     "name": "stderr",
     "output_type": "stream",
     "text": [
      "100it [00:00, 124.36it/s]\n",
      "94it [00:00, 120.01it/s]\n",
      "94it [00:00, 128.59it/s]\n"
     ]
    },
    {
     "name": "stdout",
     "output_type": "stream",
     "text": [
      "60 Accuracy: 0.9168085106382978\n"
     ]
    },
    {
     "name": "stderr",
     "output_type": "stream",
     "text": [
      "98it [00:00, 123.75it/s]\n",
      "100it [00:00, 120.03it/s]\n",
      "98it [00:00, 123.18it/s]\n"
     ]
    },
    {
     "name": "stdout",
     "output_type": "stream",
     "text": [
      "61 Accuracy: 0.8883673469387755\n"
     ]
    },
    {
     "name": "stderr",
     "output_type": "stream",
     "text": [
      "96it [00:00, 125.83it/s]\n",
      "100it [00:00, 121.49it/s]\n",
      "98it [00:00, 123.91it/s]\n"
     ]
    },
    {
     "name": "stdout",
     "output_type": "stream",
     "text": [
      "62 Accuracy: 0.9051558956916099\n"
     ]
    },
    {
     "name": "stderr",
     "output_type": "stream",
     "text": [
      "100it [00:00, 122.32it/s]\n",
      "100it [00:00, 119.47it/s]\n",
      "100it [00:00, 116.08it/s]\n"
     ]
    },
    {
     "name": "stdout",
     "output_type": "stream",
     "text": [
      "63 Accuracy: 0.9333333333333332\n"
     ]
    },
    {
     "name": "stderr",
     "output_type": "stream",
     "text": [
      "96it [00:00, 119.96it/s]\n",
      "96it [00:00, 120.77it/s]\n",
      "98it [00:00, 119.50it/s]\n"
     ]
    },
    {
     "name": "stdout",
     "output_type": "stream",
     "text": [
      "64 Accuracy: 0.9380668934240363\n"
     ]
    },
    {
     "name": "stderr",
     "output_type": "stream",
     "text": [
      "98it [00:00, 118.79it/s]\n",
      "98it [00:00, 122.17it/s]\n",
      "98it [00:00, 119.80it/s]\n"
     ]
    },
    {
     "name": "stdout",
     "output_type": "stream",
     "text": [
      "65 Accuracy: 0.9183673469387755\n"
     ]
    },
    {
     "name": "stderr",
     "output_type": "stream",
     "text": [
      "100it [00:00, 118.76it/s]\n",
      "98it [00:00, 117.43it/s]\n",
      "98it [00:00, 112.20it/s]\n"
     ]
    },
    {
     "name": "stdout",
     "output_type": "stream",
     "text": [
      "66 Accuracy: 0.8918367346938775\n"
     ]
    },
    {
     "name": "stderr",
     "output_type": "stream",
     "text": [
      "100it [00:00, 112.88it/s]\n",
      "98it [00:00, 115.01it/s]\n",
      "100it [00:00, 117.52it/s]\n"
     ]
    },
    {
     "name": "stdout",
     "output_type": "stream",
     "text": [
      "67 Accuracy: 0.9228571428571429\n"
     ]
    },
    {
     "name": "stderr",
     "output_type": "stream",
     "text": [
      "98it [00:00, 116.86it/s]\n",
      "100it [00:00, 114.58it/s]\n",
      "98it [00:00, 111.96it/s]\n"
     ]
    },
    {
     "name": "stdout",
     "output_type": "stream",
     "text": [
      "68 Accuracy: 0.8683673469387756\n"
     ]
    },
    {
     "name": "stderr",
     "output_type": "stream",
     "text": [
      "98it [00:00, 112.43it/s]\n",
      "100it [00:00, 109.91it/s]\n",
      "96it [00:00, 112.34it/s]\n"
     ]
    },
    {
     "name": "stdout",
     "output_type": "stream",
     "text": [
      "69 Accuracy: 0.9184126984126983\n"
     ]
    },
    {
     "name": "stderr",
     "output_type": "stream",
     "text": [
      "94it [00:00, 112.04it/s]\n",
      "100it [00:00, 113.35it/s]\n",
      "98it [00:00, 111.12it/s]\n"
     ]
    },
    {
     "name": "stdout",
     "output_type": "stream",
     "text": [
      "70 Accuracy: 0.8966217976552323\n"
     ]
    },
    {
     "name": "stderr",
     "output_type": "stream",
     "text": [
      "94it [00:00, 112.44it/s]\n",
      "98it [00:00, 110.26it/s]\n",
      "96it [00:00, 107.12it/s]\n"
     ]
    },
    {
     "name": "stdout",
     "output_type": "stream",
     "text": [
      "71 Accuracy: 0.9236638804457954\n"
     ]
    },
    {
     "name": "stderr",
     "output_type": "stream",
     "text": [
      "98it [00:00, 109.31it/s]\n",
      "98it [00:00, 103.97it/s]\n",
      "98it [00:00, 106.97it/s]\n"
     ]
    },
    {
     "name": "stdout",
     "output_type": "stream",
     "text": [
      "72 Accuracy: 0.9047619047619048\n"
     ]
    },
    {
     "name": "stderr",
     "output_type": "stream",
     "text": [
      "100it [00:00, 100.87it/s]\n",
      "96it [00:00, 104.24it/s]\n",
      "98it [00:00, 105.09it/s]\n"
     ]
    },
    {
     "name": "stdout",
     "output_type": "stream",
     "text": [
      "73 Accuracy: 0.915359977324263\n"
     ]
    },
    {
     "name": "stderr",
     "output_type": "stream",
     "text": [
      "98it [00:00, 103.21it/s]\n",
      "98it [00:00, 100.34it/s]\n",
      "96it [00:00, 103.81it/s]\n"
     ]
    },
    {
     "name": "stdout",
     "output_type": "stream",
     "text": [
      "74 Accuracy: 0.8971797052154195\n"
     ]
    },
    {
     "name": "stderr",
     "output_type": "stream",
     "text": [
      "98it [00:00, 102.89it/s]\n",
      "100it [00:01, 98.99it/s]\n",
      "98it [00:00, 98.38it/s]\n"
     ]
    },
    {
     "name": "stdout",
     "output_type": "stream",
     "text": [
      "75 Accuracy: 0.8955102040816326\n"
     ]
    },
    {
     "name": "stderr",
     "output_type": "stream",
     "text": [
      "98it [00:01, 97.89it/s] \n",
      "98it [00:00, 102.05it/s]\n",
      "100it [00:01, 96.76it/s]\n"
     ]
    },
    {
     "name": "stdout",
     "output_type": "stream",
     "text": [
      "76 Accuracy: 0.9053061224489797\n"
     ]
    },
    {
     "name": "stderr",
     "output_type": "stream",
     "text": [
      "100it [00:01, 97.44it/s]\n",
      "96it [00:01, 95.75it/s]\n",
      "96it [00:00, 98.94it/s]\n"
     ]
    },
    {
     "name": "stdout",
     "output_type": "stream",
     "text": [
      "77 Accuracy: 0.8836111111111111\n"
     ]
    },
    {
     "name": "stderr",
     "output_type": "stream",
     "text": [
      "98it [00:00, 100.14it/s]\n",
      "98it [00:01, 97.58it/s] \n",
      "98it [00:00, 98.42it/s]\n"
     ]
    },
    {
     "name": "stdout",
     "output_type": "stream",
     "text": [
      "78 Accuracy: 0.901360544217687\n"
     ]
    },
    {
     "name": "stderr",
     "output_type": "stream",
     "text": [
      "100it [00:01, 95.25it/s]\n",
      "98it [00:01, 94.50it/s]\n",
      "100it [00:01, 96.99it/s]\n"
     ]
    },
    {
     "name": "stdout",
     "output_type": "stream",
     "text": [
      "79 Accuracy: 0.9395238095238095\n"
     ]
    },
    {
     "name": "stderr",
     "output_type": "stream",
     "text": [
      "98it [00:01, 96.70it/s]\n",
      "94it [00:00, 97.44it/s] \n",
      "100it [00:01, 89.61it/s]\n"
     ]
    },
    {
     "name": "stdout",
     "output_type": "stream",
     "text": [
      "80 Accuracy: 0.9383919525256911\n"
     ]
    },
    {
     "name": "stderr",
     "output_type": "stream",
     "text": [
      "98it [00:01, 94.93it/s]\n",
      "100it [00:01, 90.50it/s]\n",
      "98it [00:01, 91.73it/s]\n"
     ]
    },
    {
     "name": "stdout",
     "output_type": "stream",
     "text": [
      "81 Accuracy: 0.902108843537415\n"
     ]
    },
    {
     "name": "stderr",
     "output_type": "stream",
     "text": [
      "98it [00:01, 89.79it/s]\n",
      "98it [00:01, 89.18it/s]\n",
      "98it [00:01, 89.54it/s]\n"
     ]
    },
    {
     "name": "stdout",
     "output_type": "stream",
     "text": [
      "82 Accuracy: 0.9013605442176872\n"
     ]
    },
    {
     "name": "stderr",
     "output_type": "stream",
     "text": [
      "96it [00:01, 89.18it/s]\n",
      "100it [00:01, 89.64it/s]\n",
      "98it [00:01, 92.23it/s]\n"
     ]
    },
    {
     "name": "stdout",
     "output_type": "stream",
     "text": [
      "83 Accuracy: 0.9218849206349207\n"
     ]
    },
    {
     "name": "stderr",
     "output_type": "stream",
     "text": [
      "100it [00:01, 86.41it/s]\n",
      "100it [00:01, 85.35it/s]\n",
      "96it [00:01, 89.57it/s]\n"
     ]
    },
    {
     "name": "stdout",
     "output_type": "stream",
     "text": [
      "84 Accuracy: 0.9158333333333334\n"
     ]
    },
    {
     "name": "stderr",
     "output_type": "stream",
     "text": [
      "100it [00:01, 87.80it/s]\n",
      "98it [00:01, 88.83it/s]\n",
      "100it [00:01, 82.85it/s]\n"
     ]
    },
    {
     "name": "stdout",
     "output_type": "stream",
     "text": [
      "85 Accuracy: 0.8589795918367348\n"
     ]
    },
    {
     "name": "stderr",
     "output_type": "stream",
     "text": [
      "100it [00:01, 84.43it/s]\n",
      "98it [00:01, 86.27it/s]\n",
      "100it [00:01, 83.24it/s]\n"
     ]
    },
    {
     "name": "stdout",
     "output_type": "stream",
     "text": [
      "86 Accuracy: 0.9264625850340136\n"
     ]
    },
    {
     "name": "stderr",
     "output_type": "stream",
     "text": [
      "100it [00:01, 79.32it/s]\n",
      "96it [00:01, 84.69it/s]\n",
      "96it [00:01, 81.56it/s]\n"
     ]
    },
    {
     "name": "stdout",
     "output_type": "stream",
     "text": [
      "87 Accuracy: 0.9108333333333333\n"
     ]
    },
    {
     "name": "stderr",
     "output_type": "stream",
     "text": [
      "100it [00:01, 78.46it/s]\n",
      "98it [00:01, 80.91it/s]\n",
      "98it [00:01, 79.60it/s]\n"
     ]
    },
    {
     "name": "stdout",
     "output_type": "stream",
     "text": [
      "88 Accuracy: 0.8820408163265306\n"
     ]
    },
    {
     "name": "stderr",
     "output_type": "stream",
     "text": [
      "96it [00:01, 80.61it/s]\n",
      "96it [00:01, 80.20it/s]\n",
      "96it [00:01, 81.81it/s]\n"
     ]
    },
    {
     "name": "stdout",
     "output_type": "stream",
     "text": [
      "89 Accuracy: 0.875\n"
     ]
    },
    {
     "name": "stderr",
     "output_type": "stream",
     "text": [
      "96it [00:01, 82.46it/s]\n",
      "100it [00:01, 78.50it/s]\n",
      "100it [00:01, 83.07it/s]\n"
     ]
    },
    {
     "name": "stdout",
     "output_type": "stream",
     "text": [
      "90 Accuracy: 0.9020833333333335\n"
     ]
    },
    {
     "name": "stderr",
     "output_type": "stream",
     "text": [
      "98it [00:01, 82.66it/s]\n",
      "98it [00:01, 77.07it/s]\n",
      "100it [00:01, 74.78it/s]\n"
     ]
    },
    {
     "name": "stdout",
     "output_type": "stream",
     "text": [
      "91 Accuracy: 0.8883673469387756\n"
     ]
    },
    {
     "name": "stderr",
     "output_type": "stream",
     "text": [
      "96it [00:01, 76.92it/s]\n",
      "100it [00:01, 77.04it/s]\n",
      "98it [00:01, 79.74it/s]\n"
     ]
    },
    {
     "name": "stdout",
     "output_type": "stream",
     "text": [
      "92 Accuracy: 0.9186281179138321\n"
     ]
    },
    {
     "name": "stderr",
     "output_type": "stream",
     "text": [
      "98it [00:01, 79.77it/s]\n",
      "98it [00:01, 74.81it/s]\n",
      "100it [00:01, 71.38it/s]\n"
     ]
    },
    {
     "name": "stdout",
     "output_type": "stream",
     "text": [
      "93 Accuracy: 0.8817006802721088\n"
     ]
    },
    {
     "name": "stderr",
     "output_type": "stream",
     "text": [
      "100it [00:01, 72.02it/s]\n",
      "98it [00:01, 74.85it/s]\n",
      "92it [00:01, 77.64it/s]\n"
     ]
    },
    {
     "name": "stdout",
     "output_type": "stream",
     "text": [
      "94 Accuracy: 0.8862348417627922\n"
     ]
    },
    {
     "name": "stderr",
     "output_type": "stream",
     "text": [
      "100it [00:01, 71.61it/s]\n",
      "100it [00:01, 71.69it/s]\n",
      "100it [00:01, 77.02it/s]\n"
     ]
    },
    {
     "name": "stdout",
     "output_type": "stream",
     "text": [
      "95 Accuracy: 0.8933333333333334\n"
     ]
    },
    {
     "name": "stderr",
     "output_type": "stream",
     "text": [
      "100it [00:01, 72.10it/s]\n",
      "98it [00:01, 70.43it/s]\n",
      "98it [00:01, 72.48it/s]\n"
     ]
    },
    {
     "name": "stdout",
     "output_type": "stream",
     "text": [
      "96 Accuracy: 0.8448299319727891\n"
     ]
    },
    {
     "name": "stderr",
     "output_type": "stream",
     "text": [
      "98it [00:01, 72.75it/s]\n",
      "98it [00:01, 72.16it/s]\n",
      "98it [00:01, 71.82it/s]\n"
     ]
    },
    {
     "name": "stdout",
     "output_type": "stream",
     "text": [
      "97 Accuracy: 0.891156462585034\n"
     ]
    },
    {
     "name": "stderr",
     "output_type": "stream",
     "text": [
      "100it [00:01, 70.67it/s]\n",
      "96it [00:01, 69.31it/s]\n",
      "96it [00:01, 71.65it/s]\n"
     ]
    },
    {
     "name": "stdout",
     "output_type": "stream",
     "text": [
      "98 Accuracy: 0.9006944444444445\n"
     ]
    },
    {
     "name": "stderr",
     "output_type": "stream",
     "text": [
      "100it [00:01, 69.03it/s]\n",
      "94it [00:01, 69.39it/s]\n",
      "98it [00:01, 66.80it/s]"
     ]
    },
    {
     "name": "stdout",
     "output_type": "stream",
     "text": [
      "99 Accuracy: 0.8874048342741352\n",
      "[(50, 0.9212726757369615), (51, 0.914965986394558), (52, 0.9152862811791384), (53, 0.9277210884353742), (54, 0.8984722222222222), (55, 0.9217687074829932), (56, 0.9366666666666666), (57, 0.9193197278911565), (58, 0.9290476190476191), (59, 0.9080640589569161), (60, 0.9168085106382978), (61, 0.8883673469387755), (62, 0.9051558956916099), (63, 0.9333333333333332), (64, 0.9380668934240363), (65, 0.9183673469387755), (66, 0.8918367346938775), (67, 0.9228571428571429), (68, 0.8683673469387756), (69, 0.9184126984126983), (70, 0.8966217976552323), (71, 0.9236638804457954), (72, 0.9047619047619048), (73, 0.915359977324263), (74, 0.8971797052154195), (75, 0.8955102040816326), (76, 0.9053061224489797), (77, 0.8836111111111111), (78, 0.901360544217687), (79, 0.9395238095238095), (80, 0.9383919525256911), (81, 0.902108843537415), (82, 0.9013605442176872), (83, 0.9218849206349207), (84, 0.9158333333333334), (85, 0.8589795918367348), (86, 0.9264625850340136), (87, 0.9108333333333333), (88, 0.8820408163265306), (89, 0.875), (90, 0.9020833333333335), (91, 0.8883673469387756), (92, 0.9186281179138321), (93, 0.8817006802721088), (94, 0.8862348417627922), (95, 0.8933333333333334), (96, 0.8448299319727891), (97, 0.891156462585034), (98, 0.9006944444444445), (99, 0.8874048342741352)]\n"
     ]
    },
    {
     "name": "stderr",
     "output_type": "stream",
     "text": [
      "\n"
     ]
    }
   ],
   "source": [
    "# testing \n",
    "acc_list = []\n",
    "\n",
    "for n_feature in range(50,100):\n",
    "    acc = 0\n",
    "    for k in range(3):\n",
    "        \n",
    "        # Load TIMIT dataset\n",
    "        data_dir = 'TIMIT/data'\n",
    "        train_dir = os.path.join(data_dir, 'TRAIN')\n",
    "\n",
    "        # Select a random subset of speakers for training\n",
    "        num_speakers_to_pick = 50  # Change this value to select a different number of speakers\n",
    "\n",
    "        all_speakers = []\n",
    "        dialects = os.listdir(train_dir)\n",
    "        for dialect in dialects:\n",
    "            if '.' not in dialect:\n",
    "                speakers = os.listdir(os.path.join(train_dir, dialect))\n",
    "                all_speakers.extend(speakers)\n",
    "\n",
    "        selected_speakers = random.sample(all_speakers, num_speakers_to_pick)\n",
    "\n",
    "#         print(\"Selected speakers:\", selected_speakers)\n",
    "\n",
    "        # Load dataset. Use 80% of the sentences of each speaker for training and 20% for testing\n",
    "        X_train, y_train = [], []\n",
    "        X_test, y_test = [], []\n",
    "\n",
    "        dialects = os.listdir(train_dir)\n",
    "        for dialect in dialects:\n",
    "            if '.' not in dialect:\n",
    "                speakers = os.listdir(os.path.join(train_dir, dialect))\n",
    "            for speaker in speakers:\n",
    "                if speaker not in selected_speakers:\n",
    "                    continue\n",
    "                audio_files = glob.glob(os.path.join(train_dir, dialect, speaker, '*.WAV'))\n",
    "                np.random.shuffle(audio_files)\n",
    "                num_sentences = len(audio_files)\n",
    "                for i, audio_file in enumerate(audio_files):\n",
    "                    features = extract_features(audio_file,n_feature)\n",
    "                    if i < num_sentences * 0.8:\n",
    "                        X_train.append(features)\n",
    "                        y_train.append(speaker)\n",
    "                    else:\n",
    "                        X_test.append(features)\n",
    "                        y_test.append(speaker)\n",
    "\n",
    "        # Convert to numpy arrays\n",
    "        X_train, y_train = np.array(X_train), np.array(y_train)\n",
    "        X_test, y_test = np.array(X_test), np.array(y_test)\n",
    "\n",
    "        # Preprocessing\n",
    "        scaler = StandardScaler()\n",
    "        X_train = scaler.fit_transform(X_train)\n",
    "        X_test = scaler.transform(X_test)\n",
    "\n",
    "        # print('Number of speakers:', len(np.unique(y_train)))\n",
    "\n",
    "        # Dictionary creation\n",
    "        dictionary = X_train.T\n",
    "\n",
    "        # Sparse representation\n",
    "        coder = SparseCoder(dictionary.T, transform_algorithm='lasso_lars', transform_alpha=1.)\n",
    "\n",
    "        # Classification\n",
    "        y_pred = []\n",
    "        for i, x in tqdm(enumerate(X_test)):\n",
    "            with warnings.catch_warnings():\n",
    "                warnings.filterwarnings(\"ignore\", category=ConvergenceWarning)\n",
    "                sparse_representation = coder.transform(x.reshape(1, -1))[0,:]\n",
    "\n",
    "            residual = [\n",
    "                np.linalg.norm(x - np.dot(dictionary[:, y_train == speaker], sparse_representation[y_train == speaker])) \n",
    "                for speaker in np.unique(y_train)\n",
    "            ]\n",
    "            y_pred.append(np.unique(y_train)[np.argmin(residual)])\n",
    "            # print(np.min(residual), y_pred[i], y_test[i])\n",
    "\n",
    "        # Evaluation\n",
    "#         print(f\"{mfcc:} Accuracy: {accuracy_score(y_test, y_pred)}\")\n",
    "\n",
    "#         print(\"\\nClassification Report:\\n\", classification_report(y_test, y_pred))\n",
    "        acc += accuracy_score(y_test, y_pred)\n",
    "     \n",
    "    print(f\"{n_feature:} Accuracy: {acc/3}\")\n",
    "    acc_list.append((n_feature,acc/3.0))\n",
    "\n",
    "print(acc_list)"
   ]
  },
  {
   "cell_type": "code",
   "execution_count": 50,
   "metadata": {},
   "outputs": [
    {
     "data": {
      "text/plain": [
       "[<matplotlib.lines.Line2D at 0x7f8968ed8ca0>]"
      ]
     },
     "execution_count": 50,
     "metadata": {},
     "output_type": "execute_result"
    },
    {
     "data": {
      "image/png": "[encoded data removed]",
      "text/plain": [
       "<Figure size 432x288 with 1 Axes>"
      ]
     },
     "metadata": {
      "needs_background": "light"
     },
     "output_type": "display_data"
    }
   ],
   "source": [
    "x,y = zip(*acc_list)\n",
    "plt.plot(x,y,'o-')"
   ]
  },
  {
   "cell_type": "code",
   "execution_count": 15,
   "metadata": {},
   "outputs": [
    {
     "name": "stderr",
     "output_type": "stream",
     "text": [
      "100it [00:00, 155.91it/s]"
     ]
    },
    {
     "name": "stdout",
     "output_type": "stream",
     "text": [
      "Accuracy: 0.90\n",
      "\n",
      "Classification Report:\n",
      "               precision    recall  f1-score   support\n",
      "\n",
      "       FBLV0       0.67      1.00      0.80         2\n",
      "       FBMJ0       1.00      0.50      0.67         2\n",
      "       FDML0       1.00      1.00      1.00         2\n",
      "       FEXM0       0.50      0.50      0.50         2\n",
      "       FJKL0       1.00      0.50      0.67         2\n",
      "       FJXP0       0.67      1.00      0.80         2\n",
      "       FKAA0       1.00      1.00      1.00         2\n",
      "       FMEM0       1.00      1.00      1.00         2\n",
      "       FPMY0       1.00      1.00      1.00         2\n",
      "       FRLL0       0.50      1.00      0.67         2\n",
      "       FSBK0       1.00      1.00      1.00         2\n",
      "       FTAJ0       1.00      1.00      1.00         2\n",
      "       MAFM0       1.00      1.00      1.00         2\n",
      "       MAKB0       0.50      1.00      0.67         2\n",
      "       MARW0       1.00      1.00      1.00         2\n",
      "       MBAR0       1.00      0.50      0.67         2\n",
      "       MBBR0       1.00      1.00      1.00         2\n",
      "       MBCG0       1.00      0.50      0.67         2\n",
      "       MCDR0       1.00      1.00      1.00         2\n",
      "       MCEW0       1.00      1.00      1.00         2\n",
      "       MCRE0       1.00      1.00      1.00         2\n",
      "       MCTM0       1.00      1.00      1.00         2\n",
      "       MDLC2       1.00      1.00      1.00         2\n",
      "       MDPB0       1.00      1.00      1.00         2\n",
      "       MFXS0       1.00      1.00      1.00         2\n",
      "       MGAF0       1.00      1.00      1.00         2\n",
      "       MHMG0       1.00      1.00      1.00         2\n",
      "       MJJB0       1.00      1.00      1.00         2\n",
      "       MJMA0       1.00      1.00      1.00         2\n",
      "       MJPM1       1.00      1.00      1.00         2\n",
      "       MJRG0       1.00      1.00      1.00         2\n",
      "       MKLN0       1.00      1.00      1.00         2\n",
      "       MLNS0       1.00      1.00      1.00         2\n",
      "       MMCC0       1.00      1.00      1.00         2\n",
      "       MMEA0       1.00      1.00      1.00         2\n",
      "       MREM0       1.00      1.00      1.00         2\n",
      "       MREW1       1.00      0.50      0.67         2\n",
      "       MRFL0       1.00      1.00      1.00         2\n",
      "       MRHL0       1.00      0.50      0.67         2\n",
      "       MRLD0       0.67      1.00      0.80         2\n",
      "       MRLJ0       1.00      0.50      0.67         2\n",
      "       MRML0       0.67      1.00      0.80         2\n",
      "       MRMS0       1.00      1.00      1.00         2\n",
      "       MRVG0       1.00      1.00      1.00         2\n",
      "       MRWS0       1.00      1.00      1.00         2\n",
      "       MSFH0       0.67      1.00      0.80         2\n",
      "       MSVS0       1.00      1.00      1.00         2\n",
      "       MTJS0       1.00      1.00      1.00         2\n",
      "       MTRR0       1.00      1.00      1.00         2\n",
      "       MVLO0       0.00      0.00      0.00         2\n",
      "\n",
      "    accuracy                           0.90       100\n",
      "   macro avg       0.92      0.90      0.89       100\n",
      "weighted avg       0.92      0.90      0.89       100\n",
      "\n"
     ]
    },
    {
     "name": "stderr",
     "output_type": "stream",
     "text": [
      "\n",
      "/Library/Frameworks/Python.framework/Versions/3.8/lib/python3.8/site-packages/sklearn/metrics/_classification.py:1318: UndefinedMetricWarning: Precision and F-score are ill-defined and being set to 0.0 in labels with no predicted samples. Use `zero_division` parameter to control this behavior.\n",
      "  _warn_prf(average, modifier, msg_start, len(result))\n",
      "/Library/Frameworks/Python.framework/Versions/3.8/lib/python3.8/site-packages/sklearn/metrics/_classification.py:1318: UndefinedMetricWarning: Precision and F-score are ill-defined and being set to 0.0 in labels with no predicted samples. Use `zero_division` parameter to control this behavior.\n",
      "  _warn_prf(average, modifier, msg_start, len(result))\n",
      "/Library/Frameworks/Python.framework/Versions/3.8/lib/python3.8/site-packages/sklearn/metrics/_classification.py:1318: UndefinedMetricWarning: Precision and F-score are ill-defined and being set to 0.0 in labels with no predicted samples. Use `zero_division` parameter to control this behavior.\n",
      "  _warn_prf(average, modifier, msg_start, len(result))\n"
     ]
    }
   ],
   "source": [
    "\n",
    "# Dictionary creation\n",
    "dictionary = X_train.T\n",
    "\n",
    "# Sparse representation\n",
    "coder = SparseCoder(dictionary.T, transform_algorithm='lasso_lars', transform_alpha=1.)\n",
    "\n",
    "# Classification\n",
    "y_pred = []\n",
    "for i, x in tqdm(enumerate(X_test)):\n",
    "    with warnings.catch_warnings():\n",
    "        warnings.filterwarnings(\"ignore\", category=ConvergenceWarning)\n",
    "        sparse_representation = coder.transform(x.reshape(1, -1))[0,:]\n",
    "\n",
    "    residual = [\n",
    "        np.linalg.norm(x - np.dot(dictionary[:, y_train == speaker], sparse_representation[y_train == speaker])) \n",
    "        for speaker in np.unique(y_train)\n",
    "    ]\n",
    "    y_pred.append(np.unique(y_train)[np.argmin(residual)])\n",
    "    # print(np.min(residual), y_pred[i], y_test[i])\n",
    "\n",
    "# Evaluation\n",
    "print(\"Accuracy: {:.2f}\".format(accuracy_score(y_test, y_pred)))\n",
    "print(\"\\nClassification Report:\\n\", classification_report(y_test, y_pred))\n"
   ]
  },
  {
   "cell_type": "code",
   "execution_count": 16,
   "metadata": {},
   "outputs": [
    {
     "data": {
      "image/png": "[encoded data removed]",
      "text/plain": [
       "<Figure size 864x432 with 1 Axes>"
      ]
     },
     "metadata": {
      "needs_background": "light"
     },
     "output_type": "display_data"
    }
   ],
   "source": [
    "def plot_residuals(residuals, speakers, title='Residuals per Speaker'):\n",
    "    plt.figure(figsize=(12, 6))\n",
    "    plt.bar(speakers, residuals)\n",
    "    plt.xlabel('Speaker')\n",
    "    plt.ylabel('Residual')\n",
    "    plt.title(title)\n",
    "    plt.xticks(rotation=90)\n",
    "    plt.show()\n",
    "plot_residuals(residual, np.unique(y_train))"
   ]
  },
  {
   "cell_type": "code",
   "execution_count": 5,
   "metadata": {},
   "outputs": [
    {
     "name": "stderr",
     "output_type": "stream",
     "text": [
      "<ipython-input-5-a7e00526c699>:3: MatplotlibDeprecationWarning: The 'use_line_collection' parameter of stem() was deprecated in Matplotlib 3.6 and will be removed two minor releases later. If any parameter follows 'use_line_collection', they should be passed as keyword, not positionally.\n",
      "  plt.stem(sparse_representation, use_line_collection=True)\n"
     ]
    },
    {
     "data": {
      "image/png": "[encoded data removed]",
      "text/plain": [
       "<Figure size 864x432 with 1 Axes>"
      ]
     },
     "metadata": {
      "needs_background": "light"
     },
     "output_type": "display_data"
    }
   ],
   "source": [
    "def plot_sparse_representation(sparse_representation, title='Sparse Representation'):\n",
    "    plt.figure(figsize=(12, 6))\n",
    "    plt.stem(sparse_representation, use_line_collection=True)\n",
    "    plt.xlabel('Coefficient Index')\n",
    "    plt.ylabel('Coefficient Value')\n",
    "    plt.title(title)\n",
    "    plt.show()\n",
    "\n",
    "# Assuming you have a sparse_representation array\n",
    "plot_sparse_representation(sparse_representation)"
   ]
  },
  {
   "cell_type": "code",
   "execution_count": null,
   "metadata": {},
   "outputs": [],
   "source": []
  }
 ],
 "metadata": {
  "kernelspec": {
   "display_name": "Python 3",
   "language": "python",
   "name": "python3"
  },
  "language_info": {
   "codemirror_mode": {
    "name": "ipython",
    "version": 3
   },
   "file_extension": ".py",
   "mimetype": "text/x-python",
   "name": "python",
   "nbconvert_exporter": "python",
   "pygments_lexer": "ipython3",
   "version": "3.8.0"
  },
  "vscode": {
   "interpreter": {
    "hash": "d062cfbf4990772bb1b4fc6b3ecc930da566d2d6e8a61d98ffca7083ab9d6451"
   }
  }
 },
 "nbformat": 4,
 "nbformat_minor": 2
}
