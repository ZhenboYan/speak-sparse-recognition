{
 "cells": [
  {
   "cell_type": "code",
   "execution_count": 22,
   "metadata": {},
   "outputs": [],
   "source": [
    "import numpy as np\n",
    "import librosa\n",
    "import os\n",
    "import glob\n",
    "import warnings\n",
    "import random\n",
    "import matplotlib.pyplot as plt\n",
    "from tqdm import tqdm\n",
    "from sklearn.model_selection import train_test_split\n",
    "from sklearn.preprocessing import StandardScaler\n",
    "from sklearn.decomposition import SparseCoder\n",
    "from sklearn.metrics import accuracy_score, classification_report\n",
    "from sklearn.exceptions import ConvergenceWarning\n",
    "from sklearn.decomposition import SparseCoder\n"
   ]
  },
  {
   "cell_type": "code",
   "execution_count": 23,
   "metadata": {},
   "outputs": [],
   "source": [
    "# MFCC\n",
    "def extract_features(audio_file, mfcc=13):\n",
    "    signal, sample_rate = librosa.load(audio_file, sr=None)\n",
    "    mfcc = librosa.feature.mfcc(y=signal, sr=sample_rate, n_mfcc=mfcc)\n",
    "    return mfcc.mean(axis=1)"
   ]
  },
  {
   "cell_type": "code",
   "execution_count": 4,
   "metadata": {},
   "outputs": [],
   "source": [
    "import pywt\n",
    "\n",
    "def extract_features(audio_file, wavelet='db4', level=100):\n",
    "    signal, sample_rate = librosa.load(audio_file, sr=None)\n",
    "    coeffs = pywt.wavedec(signal, wavelet, level=level)\n",
    "    \n",
    "    # Calculate mean and standard deviation as arrays\n",
    "    mean_values = np.array([np.mean(c) for c in coeffs])\n",
    "    std_values = np.array([np.std(c) for c in coeffs])\n",
    "    \n",
    "    # Concatenate mean and standard deviation arrays\n",
    "    features = np.concatenate((mean_values, std_values))\n",
    "    \n",
    "    return features\n"
   ]
  },
  {
   "cell_type": "code",
   "execution_count": 42,
   "metadata": {},
   "outputs": [],
   "source": [
    "# Function to add Gaussian noise to the features\n",
    "# def add_noise(features, noise_factor):\n",
    "#     noise = np.random.randn(*features.shape) * noise_factor\n",
    "#     return features + noise\n",
    "def add_noise(features, noise_factor):\n",
    "    noise = np.random.randn(*features.shape) * noise_factor * np.std(features)\n",
    "    return features + noise\n"
   ]
  },
  {
   "cell_type": "code",
   "execution_count": 5,
   "metadata": {},
   "outputs": [
    {
     "name": "stdout",
     "output_type": "stream",
     "text": [
      "Number of speakers: 6\n",
      "the residual of each speaker:\n",
      "[('SI', 7282900000000.0), ('SX', 7328795500000.0), ('dana', 47971597000000.0), ('ekin', 7637294400000.0), ('serene', 14411814000000.0), ('zhenbo', 47724820000000.0)]\n",
      "This speaker is not in the training set!\n"
     ]
    },
    {
     "name": "stderr",
     "output_type": "stream",
     "text": [
      "/Users/zhenboyan/Library/Python/3.8/lib/python/site-packages/pywt/_multilevel.py:43: UserWarning: Level value of 100 is too high: all coefficients will experience boundary effects.\n",
      "  warnings.warn(\n"
     ]
    }
   ],
   "source": [
    "# train and prediction based on my own dataset\n",
    "import re\n",
    "\n",
    "def extract_name(file_name):\n",
    "    # The regular expression pattern below matches any sequence of letters (a-z or A-Z)\n",
    "    pattern = r'./.*/[a-zA-Z]+'\n",
    "    match = re.search(pattern, file_name)\n",
    "    parts = match.group(0).split('/')\n",
    "    # Get the string after the second '/'\n",
    "    string_after_second_slash = parts[2]\n",
    "    \n",
    "    if match:\n",
    "        return string_after_second_slash\n",
    "    else:\n",
    "        return None\n",
    "\n",
    "def load_dataset(dir):\n",
    "    # Load dataset\n",
    "    data_dir = dir\n",
    "    all_speakers = []\n",
    "    all_speakers.extend(os.listdir(data_dir))\n",
    "    X, y = [], []\n",
    "    audio_files = glob.glob(os.path.join(data_dir, '*.wav'))\n",
    "    audio_files +=  glob.glob(os.path.join(data_dir, '*.WAV'))\n",
    "\n",
    "    for audio_file in audio_files:\n",
    "        # features =  extract_features(audio_file, wavelet='db4', level=100)\n",
    "        features = extract_features(audio_file,120)\n",
    "        X.append(features)\n",
    "        speaker = extract_name(audio_file)\n",
    "        y.append(speaker)\n",
    "        \n",
    "    X, y = np.array(X), np.array(y)\n",
    "    return X, y\n",
    "\n",
    "X_train, y_train = load_dataset(\"./train\")\n",
    "X_test, y_test = load_dataset(\"./test\")\n",
    "dictionary = X_train.T\n",
    "\n",
    "# print('Number of speakers:', len(np.unique(y_train)))\n",
    "# print('Speakers:', np.unique(y_train))\n",
    "# # improve robustness        \n",
    "# identity_matrix = np.identity(X_train.shape[1])\n",
    "# # print(\"Dictionary dimensions:\", dictionary.shape)\n",
    "# A_matrix = np.hstack((dictionary, identity_matrix))\n",
    "\n",
    "# Sparse representation        \n",
    "# Classification with Identity Matrix\n",
    "coder = SparseCoder(dictionary.T, transform_algorithm='lasso_lars', transform_alpha=.1)\n",
    "y_pred = []\n",
    "for i, y in enumerate(X_test):\n",
    "    with warnings.catch_warnings():\n",
    "        warnings.filterwarnings(\"ignore\", category=ConvergenceWarning)\n",
    "        x_est = coder.transform(y.reshape(1, -1))[0, :] # pinv(A)*y, estimated x\n",
    "\n",
    "    residual = [\n",
    "        np.linalg.norm(y - np.dot(\n",
    "            dictionary[:, y_train == speaker][:, :len(X_train.T)], \n",
    "            x_est[:dictionary.shape[1]][y_train == speaker]))\n",
    "        for speaker in np.unique(y_train)\n",
    "    ]\n",
    "    print('Number of speakers:', len(np.unique(y_train)))\n",
    "    print(f\"the residual of each speaker:\\n{list(zip(np.unique(y_train),residual))}\")\n",
    "    if (np.min(residual)) > 110:\n",
    "        print(f\"This speaker is not in the training set!\")\n",
    "    else:\n",
    "        y_pred.append(np.unique(y_train)[np.argmin(residual)])\n",
    "        print(f\"The speaker is {y_pred[0].capitalize()}\")\n"
   ]
  },
  {
   "cell_type": "code",
   "execution_count": 29,
   "metadata": {
    "scrolled": true
   },
   "outputs": [
    {
     "name": "stdout",
     "output_type": "stream",
     "text": [
      "[5, 10, 15, 20, 25, 30, 35, 40, 45, 50, 55, 60, 65, 70, 75, 80, 85, 90, 95, 100, 105, 110, 115]\n"
     ]
    },
    {
     "name": "stderr",
     "output_type": "stream",
     "text": [
      "100it [00:00, 319.55it/s]\n",
      "100it [00:00, 329.16it/s]\n",
      "100it [00:00, 275.96it/s]\n"
     ]
    },
    {
     "name": "stdout",
     "output_type": "stream",
     "text": [
      "5 Accuracy: 0.14666666666666667\n"
     ]
    },
    {
     "name": "stderr",
     "output_type": "stream",
     "text": [
      "100it [00:00, 159.50it/s]\n",
      "100it [00:00, 203.16it/s]\n",
      "100it [00:00, 197.57it/s]\n"
     ]
    },
    {
     "name": "stdout",
     "output_type": "stream",
     "text": [
      "10 Accuracy: 0.4533333333333333\n"
     ]
    },
    {
     "name": "stderr",
     "output_type": "stream",
     "text": [
      "100it [00:00, 159.15it/s]\n",
      "100it [00:00, 166.70it/s]\n",
      "100it [00:00, 159.89it/s]\n"
     ]
    },
    {
     "name": "stdout",
     "output_type": "stream",
     "text": [
      "15 Accuracy: 0.63\n"
     ]
    },
    {
     "name": "stderr",
     "output_type": "stream",
     "text": [
      "100it [00:00, 135.22it/s]\n",
      "100it [00:00, 136.39it/s]\n",
      "100it [00:00, 132.22it/s]\n"
     ]
    },
    {
     "name": "stdout",
     "output_type": "stream",
     "text": [
      "20 Accuracy: 0.77\n"
     ]
    },
    {
     "name": "stderr",
     "output_type": "stream",
     "text": [
      "100it [00:01, 87.53it/s]\n",
      "100it [00:02, 39.79it/s]\n",
      "100it [00:01, 81.51it/s]\n"
     ]
    },
    {
     "name": "stdout",
     "output_type": "stream",
     "text": [
      "25 Accuracy: 0.8700000000000001\n"
     ]
    },
    {
     "name": "stderr",
     "output_type": "stream",
     "text": [
      "100it [00:01, 88.62it/s]\n",
      "100it [00:01, 93.74it/s]\n",
      "100it [00:01, 94.74it/s]\n"
     ]
    },
    {
     "name": "stdout",
     "output_type": "stream",
     "text": [
      "30 Accuracy: 0.89\n"
     ]
    },
    {
     "name": "stderr",
     "output_type": "stream",
     "text": [
      "100it [00:01, 83.26it/s]\n",
      "100it [00:01, 66.49it/s]\n",
      "100it [00:01, 81.37it/s]\n"
     ]
    },
    {
     "name": "stdout",
     "output_type": "stream",
     "text": [
      "35 Accuracy: 0.9033333333333333\n"
     ]
    },
    {
     "name": "stderr",
     "output_type": "stream",
     "text": [
      "100it [00:01, 75.72it/s]\n",
      "100it [00:01, 78.78it/s]\n",
      "100it [00:01, 79.82it/s]\n"
     ]
    },
    {
     "name": "stdout",
     "output_type": "stream",
     "text": [
      "40 Accuracy: 0.9166666666666666\n"
     ]
    },
    {
     "name": "stderr",
     "output_type": "stream",
     "text": [
      "100it [00:01, 69.16it/s]\n",
      "100it [00:01, 76.59it/s]\n",
      "100it [00:01, 76.37it/s]\n"
     ]
    },
    {
     "name": "stdout",
     "output_type": "stream",
     "text": [
      "45 Accuracy: 0.9133333333333332\n"
     ]
    },
    {
     "name": "stderr",
     "output_type": "stream",
     "text": [
      "100it [00:01, 67.39it/s]\n",
      "100it [00:01, 68.27it/s]\n",
      "100it [00:01, 66.69it/s]\n"
     ]
    },
    {
     "name": "stdout",
     "output_type": "stream",
     "text": [
      "50 Accuracy: 0.9199999999999999\n"
     ]
    },
    {
     "name": "stderr",
     "output_type": "stream",
     "text": [
      "100it [00:01, 62.89it/s]\n",
      "100it [00:02, 39.03it/s]\n",
      "100it [00:01, 53.92it/s]\n"
     ]
    },
    {
     "name": "stdout",
     "output_type": "stream",
     "text": [
      "55 Accuracy: 0.9233333333333333\n"
     ]
    },
    {
     "name": "stderr",
     "output_type": "stream",
     "text": [
      "100it [00:02, 49.43it/s]\n",
      "100it [00:02, 48.11it/s]\n",
      "100it [00:01, 58.07it/s]\n"
     ]
    },
    {
     "name": "stdout",
     "output_type": "stream",
     "text": [
      "60 Accuracy: 0.8933333333333334\n"
     ]
    },
    {
     "name": "stderr",
     "output_type": "stream",
     "text": [
      "100it [00:01, 53.53it/s]\n",
      "100it [00:01, 56.79it/s]\n",
      "100it [00:02, 42.37it/s]\n"
     ]
    },
    {
     "name": "stdout",
     "output_type": "stream",
     "text": [
      "65 Accuracy: 0.9\n"
     ]
    },
    {
     "name": "stderr",
     "output_type": "stream",
     "text": [
      "100it [00:02, 47.92it/s]\n",
      "100it [00:02, 49.91it/s]\n",
      "100it [00:01, 52.81it/s]\n"
     ]
    },
    {
     "name": "stdout",
     "output_type": "stream",
     "text": [
      "70 Accuracy: 0.9333333333333332\n"
     ]
    },
    {
     "name": "stderr",
     "output_type": "stream",
     "text": [
      "100it [00:02, 46.83it/s]\n",
      "100it [00:02, 46.17it/s]\n",
      "100it [00:02, 46.67it/s]\n"
     ]
    },
    {
     "name": "stdout",
     "output_type": "stream",
     "text": [
      "75 Accuracy: 0.9233333333333333\n"
     ]
    },
    {
     "name": "stderr",
     "output_type": "stream",
     "text": [
      "100it [00:02, 40.90it/s]\n",
      "100it [00:02, 43.68it/s]\n",
      "100it [00:02, 45.49it/s]\n"
     ]
    },
    {
     "name": "stdout",
     "output_type": "stream",
     "text": [
      "80 Accuracy: 0.9233333333333333\n"
     ]
    },
    {
     "name": "stderr",
     "output_type": "stream",
     "text": [
      "100it [00:02, 40.30it/s]\n",
      "100it [00:03, 32.11it/s]\n",
      "100it [00:02, 39.85it/s]\n"
     ]
    },
    {
     "name": "stdout",
     "output_type": "stream",
     "text": [
      "85 Accuracy: 0.9\n"
     ]
    },
    {
     "name": "stderr",
     "output_type": "stream",
     "text": [
      "100it [00:02, 37.01it/s]\n",
      "100it [00:02, 38.14it/s]\n",
      "100it [00:03, 30.66it/s]\n"
     ]
    },
    {
     "name": "stdout",
     "output_type": "stream",
     "text": [
      "90 Accuracy: 0.8833333333333333\n"
     ]
    },
    {
     "name": "stderr",
     "output_type": "stream",
     "text": [
      "100it [00:03, 32.44it/s]\n",
      "100it [00:02, 33.35it/s]\n",
      "100it [00:02, 34.42it/s]\n"
     ]
    },
    {
     "name": "stdout",
     "output_type": "stream",
     "text": [
      "95 Accuracy: 0.8866666666666667\n"
     ]
    },
    {
     "name": "stderr",
     "output_type": "stream",
     "text": [
      "100it [00:03, 30.76it/s]\n",
      "100it [00:03, 32.81it/s]\n",
      "100it [00:03, 31.14it/s]\n"
     ]
    },
    {
     "name": "stdout",
     "output_type": "stream",
     "text": [
      "100 Accuracy: 0.8333333333333334\n"
     ]
    },
    {
     "name": "stderr",
     "output_type": "stream",
     "text": [
      "100it [00:04, 23.59it/s]\n",
      "100it [00:04, 20.69it/s]\n",
      "100it [00:03, 26.73it/s]\n"
     ]
    },
    {
     "name": "stdout",
     "output_type": "stream",
     "text": [
      "105 Accuracy: 0.8866666666666667\n"
     ]
    },
    {
     "name": "stderr",
     "output_type": "stream",
     "text": [
      "100it [00:04, 23.32it/s]\n",
      "100it [00:03, 25.05it/s]\n",
      "100it [00:06, 16.44it/s]\n"
     ]
    },
    {
     "name": "stdout",
     "output_type": "stream",
     "text": [
      "110 Accuracy: 0.8933333333333334\n"
     ]
    },
    {
     "name": "stderr",
     "output_type": "stream",
     "text": [
      "100it [00:04, 22.50it/s]\n",
      "100it [00:04, 20.06it/s]\n",
      "100it [00:04, 22.86it/s]"
     ]
    },
    {
     "name": "stdout",
     "output_type": "stream",
     "text": [
      "115 Accuracy: 0.82\n",
      "[(5, 0.14666666666666667), (10, 0.4533333333333333), (15, 0.63), (20, 0.77), (25, 0.8700000000000001), (30, 0.89), (35, 0.9033333333333333), (40, 0.9166666666666666), (45, 0.9133333333333332), (50, 0.9199999999999999), (55, 0.9233333333333333), (60, 0.8933333333333334), (65, 0.9), (70, 0.9333333333333332), (75, 0.9233333333333333), (80, 0.9233333333333333), (85, 0.9), (90, 0.8833333333333333), (95, 0.8866666666666667), (100, 0.8333333333333334), (105, 0.8866666666666667), (110, 0.8933333333333334), (115, 0.82)]\n"
     ]
    },
    {
     "name": "stderr",
     "output_type": "stream",
     "text": [
      "\n"
     ]
    }
   ],
   "source": [
    "# testing \n",
    "acc_list = []\n",
    "feautres_num = [x*5 for x in range(1, 24)]\n",
    "\n",
    "print(feautres_num)\n",
    "for n_feature in feautres_num:\n",
    "    acc = 0\n",
    "    for k in range(3):\n",
    "        \n",
    "        # Load TIMIT dataset\n",
    "        data_dir = 'TIMIT/data'\n",
    "        train_dir = os.path.join(data_dir, 'TRAIN')\n",
    "\n",
    "        # Select a random subset of speakers for training\n",
    "        num_speakers_to_pick = 50  # Change this value to select a different number of speakers\n",
    "\n",
    "        all_speakers = []\n",
    "        dialects = os.listdir(train_dir)\n",
    "        for dialect in dialects:\n",
    "            if '.' not in dialect:\n",
    "                speakers = [x for x in os.listdir(os.path.join(train_dir, dialect)) if '.' not in x]\n",
    "                all_speakers.extend(speakers)\n",
    "\n",
    "        selected_speakers = random.sample(all_speakers, num_speakers_to_pick)\n",
    "    \n",
    "        # Load dataset. Use 80% of the sentences of each speaker for training and 20% for testing\n",
    "        X_train, y_train = [], []\n",
    "        X_test, y_test = [], []\n",
    "\n",
    "        dialects = os.listdir(train_dir)\n",
    "        for dialect in dialects:\n",
    "            if '.' not in dialect:\n",
    "                speakers = [x for x in os.listdir(os.path.join(train_dir, dialect)) if '.' not in x]\n",
    "            for speaker in speakers:\n",
    "                if speaker not in selected_speakers:\n",
    "                    continue\n",
    "                audio_files = glob.glob(os.path.join(train_dir, dialect, speaker, '*.WAV'))\n",
    "                np.random.shuffle(audio_files)\n",
    "                num_sentences = len(audio_files)\n",
    "                \n",
    "                # Noise factor (adjust as needed)\n",
    "                noise_factor = 0.0\n",
    "\n",
    "                for i, audio_file in enumerate(audio_files):\n",
    "                    # features = extract_features(audio_file,120)\n",
    "                    # features =  extract_features(audio_file, wavelet='db4', level=100)\n",
    "                    features = extract_features(audio_file, n_feature)\n",
    "                    \n",
    "                    if i < num_sentences * 0.8:\n",
    "                        X_train.append(features)\n",
    "                        y_train.append(speaker)\n",
    "                    else:\n",
    "                        # Add noise to the features of the test data only\n",
    "                        # noisy_features = add_noise(features, noise_factor)\n",
    "\n",
    "                        X_test.append(features)\n",
    "                        y_test.append(speaker)\n",
    "                        \n",
    "                # for i, audio_file in enumerate(audio_files):\n",
    "                #     features = extract_features(audio_file,n_feature)\n",
    "                #     if i < num_sentences * 0.8:\n",
    "                #         X_train.append(features)\n",
    "                #         y_train.append(speaker)\n",
    "                #     else:\n",
    "                #         X_test.append(features)\n",
    "                #         y_test.append(speaker)\n",
    "\n",
    "        # Convert to numpy arrays\n",
    "        X_train, y_train = np.array(X_train), np.array(y_train)\n",
    "        X_test, y_test = np.array(X_test), np.array(y_test)\n",
    "\n",
    "        # Preprocessing\n",
    "        scaler = StandardScaler()\n",
    "        X_train = scaler.fit_transform(X_train)\n",
    "        X_test = scaler.transform(X_test)\n",
    "\n",
    "        # improve robustness        \n",
    "        identity_matrix = np.identity(X_train.shape[1])\n",
    "\n",
    "        # Dictionary creation\n",
    "        dictionary = X_train.T\n",
    "        # print(\"Dictionary dimensions:\", dictionary.shape)\n",
    "        A_matrix = np.hstack((dictionary, identity_matrix))\n",
    "        \n",
    "        # Sparse representation        \n",
    "        # Classification with Identity Matrix\n",
    "        # coder = SparseCoder(A_matrix.T, transform_algorithm='lasso_lars', transform_alpha=1.)\n",
    "        # y_pred = []\n",
    "        # for i, y in tqdm(enumerate(X_test)):\n",
    "        #     with warnings.catch_warnings():\n",
    "        #         warnings.filterwarnings(\"ignore\", category=ConvergenceWarning)\n",
    "        #         x_est = coder.transform(y.reshape(1, -1))[0, :] # pinv(A)*y, estimated x\n",
    "\n",
    "        #     residual = [\n",
    "        #         np.linalg.norm(y - np.dot(\n",
    "        #             dictionary[:, y_train == speaker][:, :len(X_train.T)], \n",
    "        #             x_est[:dictionary.shape[1]][y_train == speaker]))\n",
    "        #         for speaker in np.unique(y_train)\n",
    "        #     ]\n",
    "        #     y_pred.append(np.unique(y_train)[np.argmin(residual)])\n",
    "\n",
    "        # Classification without I\n",
    "        coder = SparseCoder(dictionary.T, transform_algorithm='lasso_lars', transform_alpha=1.)\n",
    "        y_pred = []\n",
    "        for i, x in tqdm(enumerate(X_test)):\n",
    "            with warnings.catch_warnings():\n",
    "                warnings.filterwarnings(\"ignore\", category=ConvergenceWarning)\n",
    "                sparse_representation = coder.transform(x.reshape(1, -1))[0,:]\n",
    "\n",
    "            residual = [\n",
    "                np.linalg.norm(x - np.dot(dictionary[:, y_train == speaker], sparse_representation[y_train == speaker])) \n",
    "                for speaker in np.unique(y_train)\n",
    "            ]\n",
    "            y_pred.append(np.unique(y_train)[np.argmin(residual)])\n",
    "\n",
    "        # Evaluation\n",
    "        # print(f\"{n_feature:} Accuracy: {accuracy_score(y_test, y_pred)}\")\n",
    "\n",
    "#         print(\"\\nClassification Report:\\n\", classification_report(y_test, y_pred))\n",
    "        acc += accuracy_score(y_test, y_pred)\n",
    "     \n",
    "    print(f\"{n_feature:} Accuracy: {acc/3}\")\n",
    "    acc_list.append((n_feature,acc/3.0))\n",
    "\n",
    "print(acc_list)"
   ]
  },
  {
   "cell_type": "code",
   "execution_count": 31,
   "metadata": {},
   "outputs": [
    {
     "ename": "TypeError",
     "evalue": "'numpy.float64' object is not iterable",
     "output_type": "error",
     "traceback": [
      "\u001b[0;31m---------------------------------------------------------------------------\u001b[0m",
      "\u001b[0;31mTypeError\u001b[0m                                 Traceback (most recent call last)",
      "Cell \u001b[0;32mIn[31], line 1\u001b[0m\n\u001b[0;32m----> 1\u001b[0m \u001b[39mmax\u001b[39;49m(acc)\n",
      "\u001b[0;31mTypeError\u001b[0m: 'numpy.float64' object is not iterable"
     ]
    }
   ],
   "source": [
    "max(acc)"
   ]
  },
  {
   "cell_type": "code",
   "execution_count": 30,
   "metadata": {},
   "outputs": [
    {
     "data": {
      "text/plain": [
       "[<matplotlib.lines.Line2D at 0x7fa4b9dd5790>]"
      ]
     },
     "execution_count": 30,
     "metadata": {},
     "output_type": "execute_result"
    },
    {
     "data": {
      "image/png": "[encoded data removed]",
      "text/plain": [
       "<Figure size 640x480 with 1 Axes>"
      ]
     },
     "metadata": {},
     "output_type": "display_data"
    }
   ],
   "source": [
    "x,y = zip(*acc_list)\n",
    "plt.plot(x,y,'o-')"
   ]
  },
  {
   "cell_type": "code",
   "execution_count": 15,
   "metadata": {},
   "outputs": [
    {
     "name": "stderr",
     "output_type": "stream",
     "text": [
      "100it [00:00, 155.91it/s]"
     ]
    },
    {
     "name": "stdout",
     "output_type": "stream",
     "text": [
      "Accuracy: 0.90\n",
      "\n",
      "Classification Report:\n",
      "               precision    recall  f1-score   support\n",
      "\n",
      "       FBLV0       0.67      1.00      0.80         2\n",
      "       FBMJ0       1.00      0.50      0.67         2\n",
      "       FDML0       1.00      1.00      1.00         2\n",
      "       FEXM0       0.50      0.50      0.50         2\n",
      "       FJKL0       1.00      0.50      0.67         2\n",
      "       FJXP0       0.67      1.00      0.80         2\n",
      "       FKAA0       1.00      1.00      1.00         2\n",
      "       FMEM0       1.00      1.00      1.00         2\n",
      "       FPMY0       1.00      1.00      1.00         2\n",
      "       FRLL0       0.50      1.00      0.67         2\n",
      "       FSBK0       1.00      1.00      1.00         2\n",
      "       FTAJ0       1.00      1.00      1.00         2\n",
      "       MAFM0       1.00      1.00      1.00         2\n",
      "       MAKB0       0.50      1.00      0.67         2\n",
      "       MARW0       1.00      1.00      1.00         2\n",
      "       MBAR0       1.00      0.50      0.67         2\n",
      "       MBBR0       1.00      1.00      1.00         2\n",
      "       MBCG0       1.00      0.50      0.67         2\n",
      "       MCDR0       1.00      1.00      1.00         2\n",
      "       MCEW0       1.00      1.00      1.00         2\n",
      "       MCRE0       1.00      1.00      1.00         2\n",
      "       MCTM0       1.00      1.00      1.00         2\n",
      "       MDLC2       1.00      1.00      1.00         2\n",
      "       MDPB0       1.00      1.00      1.00         2\n",
      "       MFXS0       1.00      1.00      1.00         2\n",
      "       MGAF0       1.00      1.00      1.00         2\n",
      "       MHMG0       1.00      1.00      1.00         2\n",
      "       MJJB0       1.00      1.00      1.00         2\n",
      "       MJMA0       1.00      1.00      1.00         2\n",
      "       MJPM1       1.00      1.00      1.00         2\n",
      "       MJRG0       1.00      1.00      1.00         2\n",
      "       MKLN0       1.00      1.00      1.00         2\n",
      "       MLNS0       1.00      1.00      1.00         2\n",
      "       MMCC0       1.00      1.00      1.00         2\n",
      "       MMEA0       1.00      1.00      1.00         2\n",
      "       MREM0       1.00      1.00      1.00         2\n",
      "       MREW1       1.00      0.50      0.67         2\n",
      "       MRFL0       1.00      1.00      1.00         2\n",
      "       MRHL0       1.00      0.50      0.67         2\n",
      "       MRLD0       0.67      1.00      0.80         2\n",
      "       MRLJ0       1.00      0.50      0.67         2\n",
      "       MRML0       0.67      1.00      0.80         2\n",
      "       MRMS0       1.00      1.00      1.00         2\n",
      "       MRVG0       1.00      1.00      1.00         2\n",
      "       MRWS0       1.00      1.00      1.00         2\n",
      "       MSFH0       0.67      1.00      0.80         2\n",
      "       MSVS0       1.00      1.00      1.00         2\n",
      "       MTJS0       1.00      1.00      1.00         2\n",
      "       MTRR0       1.00      1.00      1.00         2\n",
      "       MVLO0       0.00      0.00      0.00         2\n",
      "\n",
      "    accuracy                           0.90       100\n",
      "   macro avg       0.92      0.90      0.89       100\n",
      "weighted avg       0.92      0.90      0.89       100\n",
      "\n"
     ]
    },
    {
     "name": "stderr",
     "output_type": "stream",
     "text": [
      "\n",
      "/Library/Frameworks/Python.framework/Versions/3.8/lib/python3.8/site-packages/sklearn/metrics/_classification.py:1318: UndefinedMetricWarning: Precision and F-score are ill-defined and being set to 0.0 in labels with no predicted samples. Use `zero_division` parameter to control this behavior.\n",
      "  _warn_prf(average, modifier, msg_start, len(result))\n",
      "/Library/Frameworks/Python.framework/Versions/3.8/lib/python3.8/site-packages/sklearn/metrics/_classification.py:1318: UndefinedMetricWarning: Precision and F-score are ill-defined and being set to 0.0 in labels with no predicted samples. Use `zero_division` parameter to control this behavior.\n",
      "  _warn_prf(average, modifier, msg_start, len(result))\n",
      "/Library/Frameworks/Python.framework/Versions/3.8/lib/python3.8/site-packages/sklearn/metrics/_classification.py:1318: UndefinedMetricWarning: Precision and F-score are ill-defined and being set to 0.0 in labels with no predicted samples. Use `zero_division` parameter to control this behavior.\n",
      "  _warn_prf(average, modifier, msg_start, len(result))\n"
     ]
    }
   ],
   "source": [
    "\n",
    "# Dictionary creation\n",
    "dictionary = X_train.T\n",
    "\n",
    "# Sparse representation\n",
    "coder = SparseCoder(dictionary.T, transform_algorithm='lasso_lars', transform_alpha=1.)\n",
    "\n",
    "# Classification\n",
    "y_pred = []\n",
    "for i, x in tqdm(enumerate(X_test)):\n",
    "    with warnings.catch_warnings():\n",
    "        warnings.filterwarnings(\"ignore\", category=ConvergenceWarning)\n",
    "        sparse_representation = coder.transform(x.reshape(1, -1))[0,:]\n",
    "\n",
    "    residual = [\n",
    "        np.linalg.norm(x - np.dot(dictionary[:, y_train == speaker], sparse_representation[y_train == speaker])) \n",
    "        for speaker in np.unique(y_train)\n",
    "    ]\n",
    "    y_pred.append(np.unique(y_train)[np.argmin(residual)])\n",
    "    # print(np.min(residual), y_pred[i], y_test[i])\n",
    "\n",
    "# Evaluation\n",
    "print(\"Accuracy: {:.2f}\".format(accuracy_score(y_test, y_pred)))\n",
    "print(\"\\nClassification Report:\\n\", classification_report(y_test, y_pred))\n"
   ]
  },
  {
   "cell_type": "code",
   "execution_count": 16,
   "metadata": {},
   "outputs": [
    {
     "data": {
      "image/png": "[encoded data removed]",
      "text/plain": [
       "<Figure size 864x432 with 1 Axes>"
      ]
     },
     "metadata": {
      "needs_background": "light"
     },
     "output_type": "display_data"
    }
   ],
   "source": [
    "def plot_residuals(residuals, speakers, title='Residuals per Speaker'):\n",
    "    plt.figure(figsize=(12, 6))\n",
    "    plt.bar(speakers, residuals)\n",
    "    plt.xlabel('Speaker')\n",
    "    plt.ylabel('Residual')\n",
    "    plt.title(title)\n",
    "    plt.xticks(rotation=90)\n",
    "    plt.show()\n",
    "plot_residuals(residual, np.unique(y_train))"
   ]
  },
  {
   "cell_type": "code",
   "execution_count": 5,
   "metadata": {},
   "outputs": [
    {
     "name": "stderr",
     "output_type": "stream",
     "text": [
      "<ipython-input-5-a7e00526c699>:3: MatplotlibDeprecationWarning: The 'use_line_collection' parameter of stem() was deprecated in Matplotlib 3.6 and will be removed two minor releases later. If any parameter follows 'use_line_collection', they should be passed as keyword, not positionally.\n",
      "  plt.stem(sparse_representation, use_line_collection=True)\n"
     ]
    },
    {
     "data": {
      "image/png": "[encoded data removed]",
      "text/plain": [
       "<Figure size 864x432 with 1 Axes>"
      ]
     },
     "metadata": {
      "needs_background": "light"
     },
     "output_type": "display_data"
    }
   ],
   "source": [
    "def plot_sparse_representation(sparse_representation, title='Sparse Representation'):\n",
    "    plt.figure(figsize=(12, 6))\n",
    "    plt.stem(sparse_representation, use_line_collection=True)\n",
    "    plt.xlabel('Coefficient Index')\n",
    "    plt.ylabel('Coefficient Value')\n",
    "    plt.title(title)\n",
    "    plt.show()\n",
    "\n",
    "# Assuming you have a sparse_representation array\n",
    "plot_sparse_representation(sparse_representation)"
   ]
  }
 ],
 "metadata": {
  "kernelspec": {
   "display_name": "Python 3",
   "language": "python",
   "name": "python3"
  },
  "language_info": {
   "codemirror_mode": {
    "name": "ipython",
    "version": 3
   },
   "file_extension": ".py",
   "mimetype": "text/x-python",
   "name": "python",
   "nbconvert_exporter": "python",
   "pygments_lexer": "ipython3",
   "version": "3.8.0"
  },
  "vscode": {
   "interpreter": {
    "hash": "d062cfbf4990772bb1b4fc6b3ecc930da566d2d6e8a61d98ffca7083ab9d6451"
   }
  }
 },
 "nbformat": 4,
 "nbformat_minor": 2
}
