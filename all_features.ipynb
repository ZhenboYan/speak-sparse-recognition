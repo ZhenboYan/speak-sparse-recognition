{
 "cells": [
  {
   "cell_type": "code",
   "execution_count": 8,
   "metadata": {},
   "outputs": [],
   "source": [
    "import numpy as np\n",
    "import librosa\n",
    "import os\n",
    "import glob\n",
    "import warnings\n",
    "import random\n",
    "import matplotlib.pyplot as plt\n",
    "from tqdm import tqdm\n",
    "from sklearn.model_selection import train_test_split\n",
    "from sklearn.preprocessing import StandardScaler\n",
    "from sklearn.decomposition import SparseCoder\n",
    "from sklearn.metrics import accuracy_score, classification_report\n",
    "from sklearn.exceptions import ConvergenceWarning\n",
    "from sklearn.decomposition import SparseCoder\n",
    "from sklearn.mixture import GaussianMixture\n",
    "from sklearn.preprocessing import StandardScaler\n"
   ]
  },
  {
   "cell_type": "code",
   "execution_count": 9,
   "metadata": {},
   "outputs": [],
   "source": [
    "# MFCC\n",
    "def extract_features(audio_file, mfcc=13):\n",
    "    signal, sample_rate = librosa.load(audio_file, sr=None)\n",
    "    mfcc = librosa.feature.mfcc(y=signal, sr=sample_rate, n_mfcc=mfcc)\n",
    "    return mfcc.mean(axis=1)"
   ]
  },
  {
   "cell_type": "code",
   "execution_count": 28,
   "metadata": {},
   "outputs": [],
   "source": [
    "# PLP\n",
    "# !pip3.8 install sidekit\n",
    "from sidekit.frontend.features import plp\n",
    "\n",
    "def extract_features(audio_file, num_ceps=13):\n",
    "    signal, sample_rate = librosa.load(audio_file, sr=None)\n",
    "    plp_coeffs, _ = plp(signal, fs=sample_rate, rasta=True, num_ceps=num_ceps)\n",
    "    return np.mean(plp_coeffs, axis=1)"
   ]
  },
  {
   "cell_type": "code",
   "execution_count": 33,
   "metadata": {},
   "outputs": [],
   "source": [
    "import pywt\n",
    "def extract_features(audio_file, wavelet='db4', level=4):\n",
    "    signal, sample_rate = librosa.load(audio_file, sr=None)\n",
    "    coeffs = pywt.wavedec(signal, wavelet, level=level)\n",
    "    features = np.concatenate([np.mean(c) for c in coeffs] + [np.std(c) for c in coeffs])\n",
    "    return features"
   ]
  },
  {
   "cell_type": "code",
   "execution_count": 42,
   "metadata": {},
   "outputs": [],
   "source": [
    "# Function to add Gaussian noise to the features\n",
    "# def add_noise(features, noise_factor):\n",
    "#     noise = np.random.randn(*features.shape) * noise_factor\n",
    "#     return features + noise\n",
    "def add_noise(features, noise_factor):\n",
    "    noise = np.random.randn(*features.shape) * noise_factor * np.std(features)\n",
    "    return features + noise\n"
   ]
  },
  {
   "cell_type": "code",
   "execution_count": 20,
   "metadata": {},
   "outputs": [
    {
     "name": "stdout",
     "output_type": "stream",
     "text": [
      "Number of speakers: 6\n",
      "the residual of each speaker:\n",
      "[('SI', 476.6636), ('SX', 464.4651), ('dana', 467.2551), ('ekin', 543.04224), ('serene', 18.953722), ('zhenbo', 433.88828)]\n",
      "[476.6636, 464.4651, 467.2551, 543.04224, 18.953722, 433.88828]\n",
      "The speaker is Serene\n"
     ]
    }
   ],
   "source": [
    "# train and prediction based on my own dataset\n",
    "import re\n",
    "\n",
    "def extract_name(file_name):\n",
    "    # The regular expression pattern below matches any sequence of letters (a-z or A-Z)\n",
    "    pattern = r'./.*/[a-zA-Z]+'\n",
    "    match = re.search(pattern, file_name)\n",
    "    parts = match.group(0).split('/')\n",
    "    # Get the string after the second '/'\n",
    "    string_after_second_slash = parts[2]\n",
    "    \n",
    "    if match:\n",
    "        return string_after_second_slash\n",
    "    else:\n",
    "        return None\n",
    "\n",
    "def load_dataset(dir):\n",
    "    # Load dataset\n",
    "    data_dir = dir\n",
    "    all_speakers = []\n",
    "    all_speakers.extend(os.listdir(data_dir))\n",
    "    X, y = [], []\n",
    "    audio_files = glob.glob(os.path.join(data_dir, '*.wav'))\n",
    "    audio_files +=  glob.glob(os.path.join(data_dir, '*.WAV'))\n",
    "\n",
    "    for audio_file in audio_files:\n",
    "        features = extract_features(audio_file, 120)\n",
    "        X.append(features)\n",
    "        speaker = extract_name(audio_file)\n",
    "        y.append(speaker)\n",
    "        \n",
    "    X, y = np.array(X), np.array(y)\n",
    "    return X, y\n",
    "\n",
    "X_train, y_train = load_dataset(\"./train\")\n",
    "X_test, y_test = load_dataset(\"./test\")\n",
    "dictionary = X_train.T\n",
    "\n",
    "# print('Number of speakers:', len(np.unique(y_train)))\n",
    "# print('Speakers:', np.unique(y_train))\n",
    "# # improve robustness        \n",
    "# identity_matrix = np.identity(X_train.shape[1])\n",
    "# # print(\"Dictionary dimensions:\", dictionary.shape)\n",
    "# A_matrix = np.hstack((dictionary, identity_matrix))\n",
    "\n",
    "# Sparse representation        \n",
    "# Classification with Identity Matrix\n",
    "coder = SparseCoder(dictionary.T, transform_algorithm='lasso_lars', transform_alpha=1.)\n",
    "y_pred = []\n",
    "for i, y in enumerate(X_test):\n",
    "    with warnings.catch_warnings():\n",
    "        warnings.filterwarnings(\"ignore\", category=ConvergenceWarning)\n",
    "        x_est = coder.transform(y.reshape(1, -1))[0, :] # pinv(A)*y, estimated x\n",
    "\n",
    "    residual = [\n",
    "        np.linalg.norm(y - np.dot(\n",
    "            dictionary[:, y_train == speaker][:, :len(X_train.T)], \n",
    "            x_est[:dictionary.shape[1]][y_train == speaker]))\n",
    "        for speaker in np.unique(y_train)\n",
    "    ]\n",
    "    print('Number of speakers:', len(np.unique(y_train)))\n",
    "    print(f\"the residual of each speaker:\\n{list(zip(np.unique(y_train),residual))}\")\n",
    "    print(residual)\n",
    "    y_pred.append(np.unique(y_train)[np.argmin(residual)])\n",
    "\n",
    "print(f\"The speaker is {y_pred[0].capitalize()}\")"
   ]
  },
  {
   "cell_type": "code",
   "execution_count": 12,
   "metadata": {
    "scrolled": true
   },
   "outputs": [
    {
     "ename": "ValueError",
     "evalue": "Expected 2D array, got 1D array instead:\narray=[-347.9201      58.86491    -36.757137    11.885873   -19.700096\n  -19.12514    -15.764071   -14.595615   -12.369511     3.836306\n  -18.323627     1.1805862   -3.952309    -1.3162032   -1.3599508\n  -10.307747     6.6721554   -8.686648    -6.6645617    1.2320228\n   -4.6395774   -6.1157837   -1.0681305   -2.7824721   -3.8245494\n   -0.5347192   -4.23261     -2.3738697   -2.1120594   -2.392533\n   -3.5720391   -1.2966589   -2.4582748   -4.0787516   -3.4510353\n   -3.9927397   -1.4491609   -4.4285293   -2.895218    -4.3621535\n   -4.2570353   -3.1657448   -3.9233768   -3.4163487   -0.7916542\n    1.421422     6.0053167    8.053401    10.101147     8.781938 ].\nReshape your data either using array.reshape(-1, 1) if your data has a single feature or array.reshape(1, -1) if it contains a single sample.",
     "output_type": "error",
     "traceback": [
      "\u001b[0;31m---------------------------------------------------------------------------\u001b[0m",
      "\u001b[0;31mValueError\u001b[0m                                Traceback (most recent call last)",
      "Cell \u001b[0;32mIn[12], line 71\u001b[0m\n\u001b[1;32m     69\u001b[0m     speaker_mfcc \u001b[39m=\u001b[39m X_train[y_train \u001b[39m==\u001b[39m speaker]\n\u001b[1;32m     70\u001b[0m     gmm \u001b[39m=\u001b[39m GaussianMixture(n_components\u001b[39m=\u001b[39m\u001b[39m16\u001b[39m, covariance_type\u001b[39m=\u001b[39m\u001b[39m'\u001b[39m\u001b[39mdiag\u001b[39m\u001b[39m'\u001b[39m, random_state\u001b[39m=\u001b[39m\u001b[39m42\u001b[39m)\n\u001b[0;32m---> 71\u001b[0m     gmm\u001b[39m.\u001b[39;49mfit(speaker_mfcc)\n\u001b[1;32m     72\u001b[0m     gmm_speakers[speaker] \u001b[39m=\u001b[39m gmm\n\u001b[1;32m     74\u001b[0m \u001b[39m# Add GMM scores to the training and testing features\u001b[39m\n",
      "File \u001b[0;32m/Library/Frameworks/Python.framework/Versions/3.8/lib/python3.8/site-packages/sklearn/mixture/_base.py:198\u001b[0m, in \u001b[0;36mBaseMixture.fit\u001b[0;34m(self, X, y)\u001b[0m\n\u001b[1;32m    172\u001b[0m \u001b[39mdef\u001b[39;00m \u001b[39mfit\u001b[39m(\u001b[39mself\u001b[39m, X, y\u001b[39m=\u001b[39m\u001b[39mNone\u001b[39;00m):\n\u001b[1;32m    173\u001b[0m     \u001b[39m\"\"\"Estimate model parameters with the EM algorithm.\u001b[39m\n\u001b[1;32m    174\u001b[0m \n\u001b[1;32m    175\u001b[0m \u001b[39m    The method fits the model ``n_init`` times and sets the parameters with\u001b[39m\n\u001b[0;32m   (...)\u001b[0m\n\u001b[1;32m    196\u001b[0m \u001b[39m        The fitted mixture.\u001b[39m\n\u001b[1;32m    197\u001b[0m \u001b[39m    \"\"\"\u001b[39m\n\u001b[0;32m--> 198\u001b[0m     \u001b[39mself\u001b[39;49m\u001b[39m.\u001b[39;49mfit_predict(X, y)\n\u001b[1;32m    199\u001b[0m     \u001b[39mreturn\u001b[39;00m \u001b[39mself\u001b[39m\n",
      "File \u001b[0;32m/Library/Frameworks/Python.framework/Versions/3.8/lib/python3.8/site-packages/sklearn/mixture/_base.py:228\u001b[0m, in \u001b[0;36mBaseMixture.fit_predict\u001b[0;34m(self, X, y)\u001b[0m\n\u001b[1;32m    201\u001b[0m \u001b[39mdef\u001b[39;00m \u001b[39mfit_predict\u001b[39m(\u001b[39mself\u001b[39m, X, y\u001b[39m=\u001b[39m\u001b[39mNone\u001b[39;00m):\n\u001b[1;32m    202\u001b[0m     \u001b[39m\"\"\"Estimate model parameters using X and predict the labels for X.\u001b[39m\n\u001b[1;32m    203\u001b[0m \n\u001b[1;32m    204\u001b[0m \u001b[39m    The method fits the model n_init times and sets the parameters with\u001b[39m\n\u001b[0;32m   (...)\u001b[0m\n\u001b[1;32m    226\u001b[0m \u001b[39m        Component labels.\u001b[39m\n\u001b[1;32m    227\u001b[0m \u001b[39m    \"\"\"\u001b[39m\n\u001b[0;32m--> 228\u001b[0m     X \u001b[39m=\u001b[39m \u001b[39mself\u001b[39;49m\u001b[39m.\u001b[39;49m_validate_data(X, dtype\u001b[39m=\u001b[39;49m[np\u001b[39m.\u001b[39;49mfloat64, np\u001b[39m.\u001b[39;49mfloat32], ensure_min_samples\u001b[39m=\u001b[39;49m\u001b[39m2\u001b[39;49m)\n\u001b[1;32m    229\u001b[0m     \u001b[39mif\u001b[39;00m X\u001b[39m.\u001b[39mshape[\u001b[39m0\u001b[39m] \u001b[39m<\u001b[39m \u001b[39mself\u001b[39m\u001b[39m.\u001b[39mn_components:\n\u001b[1;32m    230\u001b[0m         \u001b[39mraise\u001b[39;00m \u001b[39mValueError\u001b[39;00m(\n\u001b[1;32m    231\u001b[0m             \u001b[39m\"\u001b[39m\u001b[39mExpected n_samples >= n_components \u001b[39m\u001b[39m\"\u001b[39m\n\u001b[1;32m    232\u001b[0m             f\u001b[39m\"\u001b[39m\u001b[39mbut got n_components = \u001b[39m\u001b[39m{self.n_components}\u001b[39;00m\u001b[39m, \u001b[39m\u001b[39m\"\u001b[39m\n\u001b[1;32m    233\u001b[0m             f\u001b[39m\"\u001b[39m\u001b[39mn_samples = \u001b[39m\u001b[39m{X.shape[0]}\u001b[39;00m\u001b[39m\"\u001b[39m\n\u001b[1;32m    234\u001b[0m         )\n",
      "File \u001b[0;32m/Library/Frameworks/Python.framework/Versions/3.8/lib/python3.8/site-packages/sklearn/base.py:566\u001b[0m, in \u001b[0;36mBaseEstimator._validate_data\u001b[0;34m(self, X, y, reset, validate_separately, **check_params)\u001b[0m\n\u001b[1;32m    564\u001b[0m     \u001b[39mraise\u001b[39;00m \u001b[39mValueError\u001b[39;00m(\u001b[39m\"\u001b[39m\u001b[39mValidation should be done on X, y or both.\u001b[39m\u001b[39m\"\u001b[39m)\n\u001b[1;32m    565\u001b[0m \u001b[39melif\u001b[39;00m \u001b[39mnot\u001b[39;00m no_val_X \u001b[39mand\u001b[39;00m no_val_y:\n\u001b[0;32m--> 566\u001b[0m     X \u001b[39m=\u001b[39m check_array(X, \u001b[39m*\u001b[39;49m\u001b[39m*\u001b[39;49mcheck_params)\n\u001b[1;32m    567\u001b[0m     out \u001b[39m=\u001b[39m X\n\u001b[1;32m    568\u001b[0m \u001b[39melif\u001b[39;00m no_val_X \u001b[39mand\u001b[39;00m \u001b[39mnot\u001b[39;00m no_val_y:\n",
      "File \u001b[0;32m/Library/Frameworks/Python.framework/Versions/3.8/lib/python3.8/site-packages/sklearn/utils/validation.py:769\u001b[0m, in \u001b[0;36mcheck_array\u001b[0;34m(array, accept_sparse, accept_large_sparse, dtype, order, copy, force_all_finite, ensure_2d, allow_nd, ensure_min_samples, ensure_min_features, estimator)\u001b[0m\n\u001b[1;32m    767\u001b[0m     \u001b[39m# If input is 1D raise error\u001b[39m\n\u001b[1;32m    768\u001b[0m     \u001b[39mif\u001b[39;00m array\u001b[39m.\u001b[39mndim \u001b[39m==\u001b[39m \u001b[39m1\u001b[39m:\n\u001b[0;32m--> 769\u001b[0m         \u001b[39mraise\u001b[39;00m \u001b[39mValueError\u001b[39;00m(\n\u001b[1;32m    770\u001b[0m             \u001b[39m\"\u001b[39m\u001b[39mExpected 2D array, got 1D array instead:\u001b[39m\u001b[39m\\n\u001b[39;00m\u001b[39marray=\u001b[39m\u001b[39m{}\u001b[39;00m\u001b[39m.\u001b[39m\u001b[39m\\n\u001b[39;00m\u001b[39m\"\u001b[39m\n\u001b[1;32m    771\u001b[0m             \u001b[39m\"\u001b[39m\u001b[39mReshape your data either using array.reshape(-1, 1) if \u001b[39m\u001b[39m\"\u001b[39m\n\u001b[1;32m    772\u001b[0m             \u001b[39m\"\u001b[39m\u001b[39myour data has a single feature or array.reshape(1, -1) \u001b[39m\u001b[39m\"\u001b[39m\n\u001b[1;32m    773\u001b[0m             \u001b[39m\"\u001b[39m\u001b[39mif it contains a single sample.\u001b[39m\u001b[39m\"\u001b[39m\u001b[39m.\u001b[39mformat(array)\n\u001b[1;32m    774\u001b[0m         )\n\u001b[1;32m    776\u001b[0m \u001b[39m# make sure we actually converted to numeric:\u001b[39m\n\u001b[1;32m    777\u001b[0m \u001b[39mif\u001b[39;00m dtype_numeric \u001b[39mand\u001b[39;00m array\u001b[39m.\u001b[39mdtype\u001b[39m.\u001b[39mkind \u001b[39min\u001b[39;00m \u001b[39m\"\u001b[39m\u001b[39mOUSV\u001b[39m\u001b[39m\"\u001b[39m:\n",
      "\u001b[0;31mValueError\u001b[0m: Expected 2D array, got 1D array instead:\narray=[-347.9201      58.86491    -36.757137    11.885873   -19.700096\n  -19.12514    -15.764071   -14.595615   -12.369511     3.836306\n  -18.323627     1.1805862   -3.952309    -1.3162032   -1.3599508\n  -10.307747     6.6721554   -8.686648    -6.6645617    1.2320228\n   -4.6395774   -6.1157837   -1.0681305   -2.7824721   -3.8245494\n   -0.5347192   -4.23261     -2.3738697   -2.1120594   -2.392533\n   -3.5720391   -1.2966589   -2.4582748   -4.0787516   -3.4510353\n   -3.9927397   -1.4491609   -4.4285293   -2.895218    -4.3621535\n   -4.2570353   -3.1657448   -3.9233768   -3.4163487   -0.7916542\n    1.421422     6.0053167    8.053401    10.101147     8.781938 ].\nReshape your data either using array.reshape(-1, 1) if your data has a single feature or array.reshape(1, -1) if it contains a single sample."
     ]
    }
   ],
   "source": [
    "# testing \n",
    "acc_list = []\n",
    "\n",
    "for n_feature in range(50,51):\n",
    "    acc = 0\n",
    "    for k in range(3):\n",
    "        \n",
    "        # Load TIMIT dataset\n",
    "        data_dir = 'TIMIT/data'\n",
    "        train_dir = os.path.join(data_dir, 'TRAIN')\n",
    "\n",
    "        # Select a random subset of speakers for training\n",
    "        num_speakers_to_pick = 50  # Change this value to select a different number of speakers\n",
    "\n",
    "        all_speakers = []\n",
    "        dialects = os.listdir(train_dir)\n",
    "        for dialect in dialects:\n",
    "            if '.' not in dialect:\n",
    "                speakers = os.listdir(os.path.join(train_dir, dialect))\n",
    "                all_speakers.extend(speakers)\n",
    "\n",
    "        selected_speakers = random.sample(all_speakers, num_speakers_to_pick)\n",
    "\n",
    "#         print(\"Selected speakers:\", selected_speakers)\n",
    "\n",
    "        # Load dataset. Use 80% of the sentences of each speaker for training and 20% for testing\n",
    "        X_train, y_train = [], []\n",
    "        X_test, y_test = [], []\n",
    "\n",
    "        dialects = os.listdir(train_dir)\n",
    "        for dialect in dialects:\n",
    "            if '.' not in dialect:\n",
    "                speakers = os.listdir(os.path.join(train_dir, dialect))\n",
    "            for speaker in speakers:\n",
    "                if speaker not in selected_speakers:\n",
    "                    continue\n",
    "                audio_files = glob.glob(os.path.join(train_dir, dialect, speaker, '*.WAV'))\n",
    "                np.random.shuffle(audio_files)\n",
    "                num_sentences = len(audio_files)\n",
    "                \n",
    "                # Noise factor (adjust as needed)\n",
    "                noise_factor = 0.0\n",
    "\n",
    "                for i, audio_file in enumerate(audio_files):\n",
    "                    features = extract_features(audio_file, n_feature)\n",
    "                    # features = extract_features(audio_file, n_feature)\n",
    "\n",
    "                    if i < num_sentences * 0.8:\n",
    "                        X_train.append(features)\n",
    "                        y_train.append(speaker)\n",
    "                    else:\n",
    "                        # Add noise to the features of the test data only\n",
    "                        # noisy_features = add_noise(features, noise_factor)\n",
    "\n",
    "                        X_test.append(features)\n",
    "                        y_test.append(speaker)\n",
    "                        \n",
    "                # for i, audio_file in enumerate(audio_files):\n",
    "                #     features = extract_features(audio_file,n_feature)\n",
    "                #     if i < num_sentences * 0.8:\n",
    "                #         X_train.append(features)\n",
    "                #         y_train.append(speaker)\n",
    "                #     else:\n",
    "                #         X_test.append(features)\n",
    "                #         y_test.append(speaker)\n",
    "\n",
    "        gmm_speakers = {}\n",
    "        for speaker in np.unique(y_train):\n",
    "            speaker_mfcc = X_train[y_train == speaker]\n",
    "            gmm = GaussianMixture(n_components=16, covariance_type='diag', random_state=42)\n",
    "            gmm.fit(speaker_mfcc)\n",
    "            gmm_speakers[speaker] = gmm\n",
    "\n",
    "        # Add GMM scores to the training and testing features\n",
    "        def add_gmm_scores(X, gmm_speakers):\n",
    "            gmm_scores = np.zeros((X.shape[0], len(gmm_speakers)))\n",
    "            for idx, (speaker, gmm) in enumerate(gmm_speakers.items()):\n",
    "                gmm_scores[:, idx] = gmm.score_samples(X)\n",
    "            return np.hstack((X, gmm_scores))\n",
    "\n",
    "        X_train = add_gmm_scores(X_train, gmm_speakers)\n",
    "        X_test = add_gmm_scores(X_test, gmm_speakers)\n",
    "        \n",
    "        # Convert to numpy arrays\n",
    "        X_train, y_train = np.array(X_train), np.array(y_train)\n",
    "        X_test, y_test = np.array(X_test), np.array(y_test)\n",
    "\n",
    "        # Preprocessing\n",
    "        scaler = StandardScaler()\n",
    "        X_train = scaler.fit_transform(X_train)\n",
    "        X_test = scaler.transform(X_test)\n",
    "\n",
    "        print('Number of speakers:', len(np.unique(y_train)))\n",
    "        # improve robustness        \n",
    "        identity_matrix = np.identity(X_train.shape[1])\n",
    "\n",
    "        # Dictionary creation\n",
    "        dictionary = X_train.T\n",
    "        # print(\"Dictionary dimensions:\", dictionary.shape)\n",
    "        A_matrix = np.hstack((dictionary, identity_matrix))\n",
    "        \n",
    "        # Sparse representation        \n",
    "        # Classification with Identity Matrix\n",
    "        # coder = SparseCoder(A_matrix.T, transform_algorithm='lasso_lars', transform_alpha=1.)\n",
    "        # y_pred = []\n",
    "        # for i, y in tqdm(enumerate(X_test)):\n",
    "        #     with warnings.catch_warnings():\n",
    "        #         warnings.filterwarnings(\"ignore\", category=ConvergenceWarning)\n",
    "        #         x_est = coder.transform(y.reshape(1, -1))[0, :] # pinv(A)*y, estimated x\n",
    "\n",
    "        #     residual = [\n",
    "        #         np.linalg.norm(y - np.dot(\n",
    "        #             dictionary[:, y_train == speaker][:, :len(X_train.T)], \n",
    "        #             x_est[:dictionary.shape[1]][y_train == speaker]))\n",
    "        #         for speaker in np.unique(y_train)\n",
    "        #     ]\n",
    "        #     y_pred.append(np.unique(y_train)[np.argmin(residual)])\n",
    "\n",
    "        # Classification without I\n",
    "        coder = SparseCoder(dictionary.T, transform_algorithm='lasso_lars', transform_alpha=1.)\n",
    "        y_pred = []\n",
    "        for i, x in tqdm(enumerate(X_test)):\n",
    "            with warnings.catch_warnings():\n",
    "                warnings.filterwarnings(\"ignore\", category=ConvergenceWarning)\n",
    "                sparse_representation = coder.transform(x.reshape(1, -1))[0,:]\n",
    "\n",
    "            residual = [\n",
    "                np.linalg.norm(x - np.dot(dictionary[:, y_train == speaker], sparse_representation[y_train == speaker])) \n",
    "                for speaker in np.unique(y_train)\n",
    "            ]\n",
    "            y_pred.append(np.unique(y_train)[np.argmin(residual)])\n",
    "\n",
    "        # Evaluation\n",
    "        print(f\"{n_feature:} Accuracy: {accuracy_score(y_test, y_pred)}\")\n",
    "\n",
    "#         print(\"\\nClassification Report:\\n\", classification_report(y_test, y_pred))\n",
    "        acc += accuracy_score(y_test, y_pred)\n",
    "     \n",
    "    print(f\"{n_feature:} Accuracy: {acc/3}\")\n",
    "    acc_list.append((n_feature,acc/3.0))\n",
    "\n",
    "print(acc_list)"
   ]
  },
  {
   "cell_type": "code",
   "execution_count": 53,
   "metadata": {},
   "outputs": [
    {
     "data": {
      "text/plain": [
       "[<matplotlib.lines.Line2D at 0x7fd630d22c70>]"
      ]
     },
     "execution_count": 53,
     "metadata": {},
     "output_type": "execute_result"
    },
    {
     "data": {
      "image/png": "[encoded data removed]",
      "text/plain": [
       "<Figure size 640x480 with 1 Axes>"
      ]
     },
     "metadata": {},
     "output_type": "display_data"
    }
   ],
   "source": [
    "x,y = zip(*acc_list)\n",
    "plt.plot(x,y,'o-')"
   ]
  },
  {
   "cell_type": "code",
   "execution_count": 15,
   "metadata": {},
   "outputs": [
    {
     "name": "stderr",
     "output_type": "stream",
     "text": [
      "100it [00:00, 155.91it/s]"
     ]
    },
    {
     "name": "stdout",
     "output_type": "stream",
     "text": [
      "Accuracy: 0.90\n",
      "\n",
      "Classification Report:\n",
      "               precision    recall  f1-score   support\n",
      "\n",
      "       FBLV0       0.67      1.00      0.80         2\n",
      "       FBMJ0       1.00      0.50      0.67         2\n",
      "       FDML0       1.00      1.00      1.00         2\n",
      "       FEXM0       0.50      0.50      0.50         2\n",
      "       FJKL0       1.00      0.50      0.67         2\n",
      "       FJXP0       0.67      1.00      0.80         2\n",
      "       FKAA0       1.00      1.00      1.00         2\n",
      "       FMEM0       1.00      1.00      1.00         2\n",
      "       FPMY0       1.00      1.00      1.00         2\n",
      "       FRLL0       0.50      1.00      0.67         2\n",
      "       FSBK0       1.00      1.00      1.00         2\n",
      "       FTAJ0       1.00      1.00      1.00         2\n",
      "       MAFM0       1.00      1.00      1.00         2\n",
      "       MAKB0       0.50      1.00      0.67         2\n",
      "       MARW0       1.00      1.00      1.00         2\n",
      "       MBAR0       1.00      0.50      0.67         2\n",
      "       MBBR0       1.00      1.00      1.00         2\n",
      "       MBCG0       1.00      0.50      0.67         2\n",
      "       MCDR0       1.00      1.00      1.00         2\n",
      "       MCEW0       1.00      1.00      1.00         2\n",
      "       MCRE0       1.00      1.00      1.00         2\n",
      "       MCTM0       1.00      1.00      1.00         2\n",
      "       MDLC2       1.00      1.00      1.00         2\n",
      "       MDPB0       1.00      1.00      1.00         2\n",
      "       MFXS0       1.00      1.00      1.00         2\n",
      "       MGAF0       1.00      1.00      1.00         2\n",
      "       MHMG0       1.00      1.00      1.00         2\n",
      "       MJJB0       1.00      1.00      1.00         2\n",
      "       MJMA0       1.00      1.00      1.00         2\n",
      "       MJPM1       1.00      1.00      1.00         2\n",
      "       MJRG0       1.00      1.00      1.00         2\n",
      "       MKLN0       1.00      1.00      1.00         2\n",
      "       MLNS0       1.00      1.00      1.00         2\n",
      "       MMCC0       1.00      1.00      1.00         2\n",
      "       MMEA0       1.00      1.00      1.00         2\n",
      "       MREM0       1.00      1.00      1.00         2\n",
      "       MREW1       1.00      0.50      0.67         2\n",
      "       MRFL0       1.00      1.00      1.00         2\n",
      "       MRHL0       1.00      0.50      0.67         2\n",
      "       MRLD0       0.67      1.00      0.80         2\n",
      "       MRLJ0       1.00      0.50      0.67         2\n",
      "       MRML0       0.67      1.00      0.80         2\n",
      "       MRMS0       1.00      1.00      1.00         2\n",
      "       MRVG0       1.00      1.00      1.00         2\n",
      "       MRWS0       1.00      1.00      1.00         2\n",
      "       MSFH0       0.67      1.00      0.80         2\n",
      "       MSVS0       1.00      1.00      1.00         2\n",
      "       MTJS0       1.00      1.00      1.00         2\n",
      "       MTRR0       1.00      1.00      1.00         2\n",
      "       MVLO0       0.00      0.00      0.00         2\n",
      "\n",
      "    accuracy                           0.90       100\n",
      "   macro avg       0.92      0.90      0.89       100\n",
      "weighted avg       0.92      0.90      0.89       100\n",
      "\n"
     ]
    },
    {
     "name": "stderr",
     "output_type": "stream",
     "text": [
      "\n",
      "/Library/Frameworks/Python.framework/Versions/3.8/lib/python3.8/site-packages/sklearn/metrics/_classification.py:1318: UndefinedMetricWarning: Precision and F-score are ill-defined and being set to 0.0 in labels with no predicted samples. Use `zero_division` parameter to control this behavior.\n",
      "  _warn_prf(average, modifier, msg_start, len(result))\n",
      "/Library/Frameworks/Python.framework/Versions/3.8/lib/python3.8/site-packages/sklearn/metrics/_classification.py:1318: UndefinedMetricWarning: Precision and F-score are ill-defined and being set to 0.0 in labels with no predicted samples. Use `zero_division` parameter to control this behavior.\n",
      "  _warn_prf(average, modifier, msg_start, len(result))\n",
      "/Library/Frameworks/Python.framework/Versions/3.8/lib/python3.8/site-packages/sklearn/metrics/_classification.py:1318: UndefinedMetricWarning: Precision and F-score are ill-defined and being set to 0.0 in labels with no predicted samples. Use `zero_division` parameter to control this behavior.\n",
      "  _warn_prf(average, modifier, msg_start, len(result))\n"
     ]
    }
   ],
   "source": [
    "\n",
    "# Dictionary creation\n",
    "dictionary = X_train.T\n",
    "\n",
    "# Sparse representation\n",
    "coder = SparseCoder(dictionary.T, transform_algorithm='lasso_lars', transform_alpha=1.)\n",
    "\n",
    "# Classification\n",
    "y_pred = []\n",
    "for i, x in tqdm(enumerate(X_test)):\n",
    "    with warnings.catch_warnings():\n",
    "        warnings.filterwarnings(\"ignore\", category=ConvergenceWarning)\n",
    "        sparse_representation = coder.transform(x.reshape(1, -1))[0,:]\n",
    "\n",
    "    residual = [\n",
    "        np.linalg.norm(x - np.dot(dictionary[:, y_train == speaker], sparse_representation[y_train == speaker])) \n",
    "        for speaker in np.unique(y_train)\n",
    "    ]\n",
    "    y_pred.append(np.unique(y_train)[np.argmin(residual)])\n",
    "    # print(np.min(residual), y_pred[i], y_test[i])\n",
    "\n",
    "# Evaluation\n",
    "print(\"Accuracy: {:.2f}\".format(accuracy_score(y_test, y_pred)))\n",
    "print(\"\\nClassification Report:\\n\", classification_report(y_test, y_pred))\n"
   ]
  },
  {
   "cell_type": "code",
   "execution_count": 16,
   "metadata": {},
   "outputs": [
    {
     "data": {
      "image/png": "[encoded data removed]",
      "text/plain": [
       "<Figure size 864x432 with 1 Axes>"
      ]
     },
     "metadata": {
      "needs_background": "light"
     },
     "output_type": "display_data"
    }
   ],
   "source": [
    "def plot_residuals(residuals, speakers, title='Residuals per Speaker'):\n",
    "    plt.figure(figsize=(12, 6))\n",
    "    plt.bar(speakers, residuals)\n",
    "    plt.xlabel('Speaker')\n",
    "    plt.ylabel('Residual')\n",
    "    plt.title(title)\n",
    "    plt.xticks(rotation=90)\n",
    "    plt.show()\n",
    "plot_residuals(residual, np.unique(y_train))"
   ]
  },
  {
   "cell_type": "code",
   "execution_count": 5,
   "metadata": {},
   "outputs": [
    {
     "name": "stderr",
     "output_type": "stream",
     "text": [
      "<ipython-input-5-a7e00526c699>:3: MatplotlibDeprecationWarning: The 'use_line_collection' parameter of stem() was deprecated in Matplotlib 3.6 and will be removed two minor releases later. If any parameter follows 'use_line_collection', they should be passed as keyword, not positionally.\n",
      "  plt.stem(sparse_representation, use_line_collection=True)\n"
     ]
    },
    {
     "data": {
      "image/png": "[encoded data removed]",
      "text/plain": [
       "<Figure size 864x432 with 1 Axes>"
      ]
     },
     "metadata": {
      "needs_background": "light"
     },
     "output_type": "display_data"
    }
   ],
   "source": [
    "def plot_sparse_representation(sparse_representation, title='Sparse Representation'):\n",
    "    plt.figure(figsize=(12, 6))\n",
    "    plt.stem(sparse_representation, use_line_collection=True)\n",
    "    plt.xlabel('Coefficient Index')\n",
    "    plt.ylabel('Coefficient Value')\n",
    "    plt.title(title)\n",
    "    plt.show()\n",
    "\n",
    "# Assuming you have a sparse_representation array\n",
    "plot_sparse_representation(sparse_representation)"
   ]
  }
 ],
 "metadata": {
  "kernelspec": {
   "display_name": "Python 3",
   "language": "python",
   "name": "python3"
  },
  "language_info": {
   "codemirror_mode": {
    "name": "ipython",
    "version": 3
   },
   "file_extension": ".py",
   "mimetype": "text/x-python",
   "name": "python",
   "nbconvert_exporter": "python",
   "pygments_lexer": "ipython3",
   "version": "3.8.0"
  },
  "vscode": {
   "interpreter": {
    "hash": "d062cfbf4990772bb1b4fc6b3ecc930da566d2d6e8a61d98ffca7083ab9d6451"
   }
  }
 },
 "nbformat": 4,
 "nbformat_minor": 2
}
